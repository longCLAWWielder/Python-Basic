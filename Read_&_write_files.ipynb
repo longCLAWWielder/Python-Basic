{
  "nbformat": 4,
  "nbformat_minor": 0,
  "metadata": {
    "colab": {
      "provenance": [],
      "authorship_tag": "ABX9TyM1M7mydmFXTnpyf454mpU9",
      "include_colab_link": true
    },
    "kernelspec": {
      "name": "python3",
      "display_name": "Python 3"
    },
    "language_info": {
      "name": "python"
    }
  },
  "cells": [
    {
      "cell_type": "markdown",
      "metadata": {
        "id": "view-in-github",
        "colab_type": "text"
      },
      "source": [
        "<a href=\"https://colab.research.google.com/github/longCLAWWielder/Python-Basic/blob/main/Read_%26_write_files.ipynb\" target=\"_parent\"><img src=\"https://colab.research.google.com/assets/colab-badge.svg\" alt=\"Open In Colab\"/></a>"
      ]
    },
    {
      "cell_type": "markdown",
      "source": [
        "READING FILES"
      ],
      "metadata": {
        "id": "sF0OHaMW_vax"
      }
    },
    {
      "cell_type": "code",
      "source": [
        "#for open and read the file \n",
        "open(\"readcode.txt\", \"r\")\n",
        "#for writing in the file, it means you can edit or modify the contents inside the file\n",
        "open(\"readcode.txt\", \"w\")\n",
        "# \"a\" stands for appent. It means you cannot modify or edit the file but you can add something in the file at the end of the file.\n",
        "open(\"readcode.txt\", \"a\")\n",
        "# \"r+\" stands for read and write. you can read and edit or modify the file.\n",
        "open(\"readcode.txt\", \"r+\")\n",
        "\n",
        "# make sure that you have to close the file when you open a file.\n",
        "friends = open(\"readcode.txt\", \"r\")\n",
        "print(friends)\n",
        "friends.cliose()\n",
        "\n",
        "#there are several commands like \"readable = to check the contents of the file is readble or not. in this case we will get a bollyan value like True/False\"\n",
        "friends = open(\"readcode.txt\", \"r\")\n",
        "print(friends.readable())\n",
        "friends.cliose()\n",
        "\n",
        "# comands like \"readline = to read the first line of the file. if you print the same command then python reads the second line of the file\"\n",
        "friends = open(\"readcode.txt\", \"r\")\n",
        "print(friends.readline()) #read the first line\n",
        "print(friends.readline()) #read the second line\n",
        "print(friends.readline()) #read the 3rd line\n",
        "friends.cliose()\n",
        "\n",
        "# command like \"readlines = to read all the lines in an array. and you can also specify the line you want to read by number in the array\"\n",
        "friends = open(\"readcode.txt\", \"r\")\n",
        "print(friends.readlines()) # outputs are = \"[\"mithun - das\", \"smruthi - srinivasa\", \"sahana - chanappa\" .....]\n",
        "print(friends.readlines()[2]) # output is \"sahana - chanappa\"\n",
        "friends.cliose()\n",
        "\n",
        "\n",
        "\n",
        "\n",
        "\n"
      ],
      "metadata": {
        "id": "iYJtlaAEuxT0"
      },
      "execution_count": null,
      "outputs": []
    },
    {
      "cell_type": "markdown",
      "source": [
        "WRITING & APPENDING FILES IN PYTHON"
      ],
      "metadata": {
        "id": "hVrPhraY28qd"
      }
    },
    {
      "cell_type": "code",
      "source": [
        "# appending in a file\n",
        "friends = open(\"readnote.txt\", \"a\")\n",
        "friends.write(\"bidisha - biswas\")\n",
        "friends.close\n",
        "#\"bidisha - biswas\" will be add in the file \"readnote.txt\" at the very end.\n",
        "'''\n",
        "careful about the appending in a file - if you run the code twice accidently the appending will be done twice and the file is saved.\n",
        "'''\n",
        "# new line sign \"\\n\", so if we want to get a new line then code should be\n",
        "friends = open(\"readnote.txt\", \"a\")\n",
        "friends.write(\"\\nsamia - sudoki\")\n",
        "friends.close\n",
        "# \"samia - sudoki\" will be added in a new line at the end of \"readnote.txt\" file."
      ],
      "metadata": {
        "id": "3w8zBHbo3E0_"
      },
      "execution_count": null,
      "outputs": []
    },
    {
      "cell_type": "code",
      "source": [
        "# writing in a file \n",
        "friends = open(\"readnote.txt\", \"w\")\n",
        "friends.write(\"bidisha - biswas\") #this command actually overwrite the whole fil. because you did not mention specifically where \"bidisha - biswas\" will be written. so it overwrite the whole file.\n",
        "friends.close\n",
        "\n",
        "# create a new file\n",
        "friends = open(\"readnote01.txt\", \"w\")\n",
        "friends.write(\"bidisha - biswas\") #itcreates a new file called \"readnote01.txt\" and written \"bidisha - biswas\" in it.\n",
        "friends.close\n",
        "#like this you can create files, webpage etc etc.\n"
      ],
      "metadata": {
        "id": "5p3VJY6u6nNx"
      },
      "execution_count": null,
      "outputs": []
    }
  ]
}