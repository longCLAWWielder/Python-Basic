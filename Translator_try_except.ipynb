{
  "nbformat": 4,
  "nbformat_minor": 0,
  "metadata": {
    "colab": {
      "provenance": [],
      "authorship_tag": "ABX9TyMX3sbX72Wmj5sPMQxAVRdi",
      "include_colab_link": true
    },
    "kernelspec": {
      "name": "python3",
      "display_name": "Python 3"
    },
    "language_info": {
      "name": "python"
    }
  },
  "cells": [
    {
      "cell_type": "markdown",
      "metadata": {
        "id": "view-in-github",
        "colab_type": "text"
      },
      "source": [
        "<a href=\"https://colab.research.google.com/github/longCLAWWielder/Python-Basic/blob/main/Translator_try_except.ipynb\" target=\"_parent\"><img src=\"https://colab.research.google.com/assets/colab-badge.svg\" alt=\"Open In Colab\"/></a>"
      ]
    },
    {
      "cell_type": "markdown",
      "source": [
        "BUILD A BASIC TRANSLATOR "
      ],
      "metadata": {
        "id": "w354LAQIXiDi"
      }
    },
    {
      "cell_type": "code",
      "source": [
        "def meaning(words):\n",
        "  translation = \"\"\n",
        "  for letter in words:\n",
        "    if letter in \"AEIOUaeiou\":\n",
        "      if letter.islower():\n",
        "        translation = translation + \"m\"\n",
        "      else:\n",
        "        translation = translation + \"M\"\n",
        "    else: \n",
        "      translation = translation + letter\n",
        "  return translation\n",
        "\n",
        "print(meaning(input(\"Sentence please: \")))\n"
      ],
      "metadata": {
        "colab": {
          "base_uri": "https://localhost:8080/"
        },
        "id": "YHDze_utcnL0",
        "outputId": "2c910954-4430-4a95-8dcf-bbfc447959f6"
      },
      "execution_count": 11,
      "outputs": [
        {
          "output_type": "stream",
          "name": "stdout",
          "text": [
            "Sentence please: I am a student. I have TWO siblings. My Elder brother is a DOCTOR. My younger sister is an Engineer\n",
            "M mm m stmdmnt. M hmvm TWM smblmngs. My Mldmr brmthmr ms m DMCTMR. My ymmngmr smstmr ms mn Mngmnmmr\n"
          ]
        }
      ]
    },
    {
      "cell_type": "markdown",
      "source": [
        "COMMENTS- to write a comment in the python, there is two way.\n",
        "\n",
        "*   Using # = when you use # sign, python do not print this. so you can comment anything on the code area.\n",
        "*   By using '''- ''' signs. = the reason is same. pythod just avoid your text and do not print it. so you can write something to make your code understandable."
      ],
      "metadata": {
        "id": "macAtTqIivUj"
      }
    },
    {
      "cell_type": "code",
      "source": [
        "#this code can print the line \n",
        "print(\"I am a boy\")\n",
        "'''\n",
        "Nothing is impossible. you can do whatever you want with python \n",
        "'''\n",
        "print(\"nothing is impossible\")"
      ],
      "metadata": {
        "colab": {
          "base_uri": "https://localhost:8080/"
        },
        "id": "u6rcA_6zkXm5",
        "outputId": "aeeab33e-f514-4eba-d550-24e7a001a0a4"
      },
      "execution_count": 13,
      "outputs": [
        {
          "output_type": "stream",
          "name": "stdout",
          "text": [
            "I am a boy\n",
            "nothing is impossible\n"
          ]
        }
      ]
    },
    {
      "cell_type": "markdown",
      "source": [
        "TRY EXECPT"
      ],
      "metadata": {
        "id": "ququ9JUt4RTI"
      }
    },
    {
      "cell_type": "code",
      "source": [
        "try:\n",
        "  def meaning(words):\n",
        "     translation : \"\"\n",
        "     for letter in words:\n",
        "       if letter in \"AEIOUaeiou\":\n",
        "        if letter.islower():\n",
        "          translation = translation + \"m\"\n",
        "        else: \n",
        "          translation = translation + \"M\"\n",
        "       else: \n",
        "         translation = translation + letter\n",
        "     return translation\n",
        "  print(meaning(input(\"Sentence please: \")))\n",
        "\n",
        "except:\n",
        "  print(\"Invalid input\")\n",
        "\n"
      ],
      "metadata": {
        "colab": {
          "base_uri": "https://localhost:8080/"
        },
        "outputId": "da8302ef-a989-4662-a7d3-20b96ff6e16c",
        "id": "M2RxCQEl5XOv"
      },
      "execution_count": 33,
      "outputs": [
        {
          "output_type": "stream",
          "name": "stdout",
          "text": [
            "Sentence please: dfdf\n",
            "Invalid input\n"
          ]
        }
      ]
    },
    {
      "cell_type": "code",
      "source": [
        "try:\n",
        "  number = int(input(\"number please: \"))\n",
        "  print(number)\n",
        "\n",
        "except:\n",
        "  print(\"invalid input\")\n",
        "\n",
        "try:\n",
        "  string = str(input(\"string please: \"))\n",
        "  print(strin)\n",
        "\n",
        "except:\n",
        "  print(\"invalid input\")"
      ],
      "metadata": {
        "colab": {
          "base_uri": "https://localhost:8080/"
        },
        "id": "PykhawRA757M",
        "outputId": "92ecae3c-2c1d-4e0c-bec8-6190390d3aa5"
      },
      "execution_count": 38,
      "outputs": [
        {
          "output_type": "stream",
          "name": "stdout",
          "text": [
            "number please: gd\n",
            "invalid input\n",
            "string please: 56\n",
            "invalid input\n"
          ]
        }
      ]
    },
    {
      "cell_type": "code",
      "source": [
        "try:\n",
        "  number = int(input(\"number please: \"))\n",
        "  print(number)\n",
        "\n",
        "except ValueError:\n",
        "  print(\"invalid input\")"
      ],
      "metadata": {
        "colab": {
          "base_uri": "https://localhost:8080/"
        },
        "id": "hCGKts9X9wTI",
        "outputId": "f52f093c-f9d9-4e1d-8253-acefbc947bf9"
      },
      "execution_count": 41,
      "outputs": [
        {
          "output_type": "stream",
          "name": "stdout",
          "text": [
            "number please: gdfgdhj\n",
            "invalid input\n"
          ]
        }
      ]
    }
  ]
}