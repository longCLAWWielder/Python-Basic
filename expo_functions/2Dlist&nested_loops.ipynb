{
  "nbformat": 4,
  "nbformat_minor": 0,
  "metadata": {
    "colab": {
      "provenance": [],
      "authorship_tag": "ABX9TyNmzql+8Q7xTkT8lhZravE/",
      "include_colab_link": true
    },
    "kernelspec": {
      "name": "python3",
      "display_name": "Python 3"
    },
    "language_info": {
      "name": "python"
    }
  },
  "cells": [
    {
      "cell_type": "markdown",
      "metadata": {
        "id": "view-in-github",
        "colab_type": "text"
      },
      "source": [
        "<a href=\"https://colab.research.google.com/github/longCLAWWielder/Python-Basic/blob/main/expo_functions/2Dlist%26nested_loops.ipynb\" target=\"_parent\"><img src=\"https://colab.research.google.com/assets/colab-badge.svg\" alt=\"Open In Colab\"/></a>"
      ]
    },
    {
      "cell_type": "markdown",
      "source": [
        "**EXPONENT FUNCTIONS**"
      ],
      "metadata": {
        "id": "f6rMXLWKz3Ll"
      }
    },
    {
      "cell_type": "code",
      "execution_count": null,
      "metadata": {
        "colab": {
          "base_uri": "https://localhost:8080/"
        },
        "id": "5BYJM7efz1cU",
        "outputId": "0edced14-3901-4edc-d7b2-e4d5ca36311d"
      },
      "outputs": [
        {
          "output_type": "stream",
          "name": "stdout",
          "text": [
            "161051\n",
            "322102\n"
          ]
        }
      ],
      "source": [
        "def power_of_11(number, power):\n",
        "  result = 1\n",
        "  for index in range(power):\n",
        "    result = result * number\n",
        "  return result\n",
        "\n",
        "print(power_of_11(11,5))\n",
        "\n",
        "def power_of_11(number, power):\n",
        "  result = 2 \n",
        "  for index in range(power):\n",
        "    result = result * number\n",
        "  return result\n",
        "\n",
        "print(power_of_11(11,5))\n"
      ]
    },
    {
      "cell_type": "markdown",
      "source": [
        "2D LIST & NESTED LOOPS"
      ],
      "metadata": {
        "id": "Gj6f3AetNFyX"
      }
    },
    {
      "cell_type": "markdown",
      "source": [
        "2D LIST "
      ],
      "metadata": {
        "id": "Wk2ntLCaO9b3"
      }
    },
    {
      "cell_type": "code",
      "source": [
        "age_grid = [\n",
        "    [36, 34, 28, 21],\n",
        "    [32, 28, 23],\n",
        "    [27, 22, 17],\n",
        "    [23, 23, 19, 15],\n",
        "    [24,16], \n",
        "    [11, 7, 4],\n",
        "    [13, 11, 9, 7, 4, 1],\n",
        "    [2],\n",
        "    [3]\n",
        "]\n",
        "\n",
        "print(age_grid[7][0])\n",
        "print(age_grid[8][0])\n",
        "print(age_grid[2][2])\n",
        "print(age_grid[6][5])\n",
        "\n"
      ],
      "metadata": {
        "colab": {
          "base_uri": "https://localhost:8080/"
        },
        "id": "hbqAl_ygNKtv",
        "outputId": "79f96845-80d3-4be4-fec2-93ea4c1c0d67"
      },
      "execution_count": 7,
      "outputs": [
        {
          "output_type": "stream",
          "name": "stdout",
          "text": [
            "2\n",
            "3\n",
            "17\n",
            "1\n"
          ]
        }
      ]
    },
    {
      "cell_type": "code",
      "source": [
        "name_grid = [\n",
        "    [\"hasan\", \"liza\", \"mona\", \"fahim\"],\n",
        "    [\"shaun\", \"sayem\", \"tamanna\"],\n",
        "    [\"anisha\", \"alif\"],\n",
        "    [\"mim\", \"riduan\", \"minha\"]\n",
        "]\n",
        "\n",
        "print(name_grid[2][1])\n",
        "print(name_grid[1][1])"
      ],
      "metadata": {
        "colab": {
          "base_uri": "https://localhost:8080/"
        },
        "id": "e22VxYZxSgKd",
        "outputId": "4913030d-9de7-4d53-fb00-c4de2b07c480"
      },
      "execution_count": 11,
      "outputs": [
        {
          "output_type": "stream",
          "name": "stdout",
          "text": [
            "alif\n",
            "sayem\n"
          ]
        }
      ]
    },
    {
      "cell_type": "markdown",
      "source": [
        "NESTED FOR LOOPS\n",
        "--- FOR LOOPS INSIDE OF A FOR LOOPS"
      ],
      "metadata": {
        "id": "f22HnbbeT-HM"
      }
    },
    {
      "cell_type": "code",
      "source": [
        "age_grid = [\n",
        "    [36, 34, 28, 21],\n",
        "    [32, 28, 23],\n",
        "    [27, 22, 17],\n",
        "    [23, 23, 19, 15],\n",
        "    [24,16], \n",
        "    [11, 7, 4],\n",
        "    [13, 11, 9, 7, 4, 1],\n",
        "    [2],\n",
        "    [3]\n",
        "]\n",
        "\n",
        "for row in age_grid:\n",
        "  print(row)\n",
        "for row in age_grid:\n",
        "  for col in row: \n",
        "    print(col)\n"
      ],
      "metadata": {
        "colab": {
          "base_uri": "https://localhost:8080/"
        },
        "outputId": "1f82e58f-710b-43ff-d4fc-660f34cad3ad",
        "id": "mOfToLD9UoIs"
      },
      "execution_count": 13,
      "outputs": [
        {
          "output_type": "stream",
          "name": "stdout",
          "text": [
            "[36, 34, 28, 21]\n",
            "[32, 28, 23]\n",
            "[27, 22, 17]\n",
            "[23, 23, 19, 15]\n",
            "[24, 16]\n",
            "[11, 7, 4]\n",
            "[13, 11, 9, 7, 4, 1]\n",
            "[2]\n",
            "[3]\n",
            "36\n",
            "34\n",
            "28\n",
            "21\n",
            "32\n",
            "28\n",
            "23\n",
            "27\n",
            "22\n",
            "17\n",
            "23\n",
            "23\n",
            "19\n",
            "15\n",
            "24\n",
            "16\n",
            "11\n",
            "7\n",
            "4\n",
            "13\n",
            "11\n",
            "9\n",
            "7\n",
            "4\n",
            "1\n",
            "2\n",
            "3\n"
          ]
        }
      ]
    },
    {
      "cell_type": "code",
      "source": [
        "age_grid = [\n",
        "    [36, 34, 28, 21],\n",
        "    [32, 28, 23],\n",
        "    [27, 22, 17],\n",
        "    [23, 23, 19, 15],\n",
        "    [24,16], \n",
        "    [11, 7, 4],\n",
        "    [13, 11, 9, 7, 4, 1],\n",
        "    [2],\n",
        "    [3]\n",
        "]\n",
        "\n",
        "for col in age_grid:\n",
        "  print(col)\n",
        "for col in age_grid:\n",
        "  for row in col:\n",
        "    print(row)\n",
        "\n"
      ],
      "metadata": {
        "colab": {
          "base_uri": "https://localhost:8080/"
        },
        "outputId": "455d08c5-46cf-4362-d313-03d8e342277f",
        "id": "vmmNN9--VqmV"
      },
      "execution_count": 15,
      "outputs": [
        {
          "output_type": "stream",
          "name": "stdout",
          "text": [
            "[36, 34, 28, 21]\n",
            "[32, 28, 23]\n",
            "[27, 22, 17]\n",
            "[23, 23, 19, 15]\n",
            "[24, 16]\n",
            "[11, 7, 4]\n",
            "[13, 11, 9, 7, 4, 1]\n",
            "[2]\n",
            "[3]\n",
            "36\n",
            "34\n",
            "28\n",
            "21\n",
            "32\n",
            "28\n",
            "23\n",
            "27\n",
            "22\n",
            "17\n",
            "23\n",
            "23\n",
            "19\n",
            "15\n",
            "24\n",
            "16\n",
            "11\n",
            "7\n",
            "4\n",
            "13\n",
            "11\n",
            "9\n",
            "7\n",
            "4\n",
            "1\n",
            "2\n",
            "3\n"
          ]
        }
      ]
    }
  ]
}