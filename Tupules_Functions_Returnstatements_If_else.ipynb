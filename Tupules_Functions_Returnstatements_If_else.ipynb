{
  "nbformat": 4,
  "nbformat_minor": 0,
  "metadata": {
    "colab": {
      "provenance": [],
      "authorship_tag": "ABX9TyPco5TbFxqSaDyFvCs/D2nD",
      "include_colab_link": true
    },
    "kernelspec": {
      "name": "python3",
      "display_name": "Python 3"
    },
    "language_info": {
      "name": "python"
    }
  },
  "cells": [
    {
      "cell_type": "markdown",
      "metadata": {
        "id": "view-in-github",
        "colab_type": "text"
      },
      "source": [
        "<a href=\"https://colab.research.google.com/github/longCLAWWielder/Python-Basic/blob/main/Tupules_Functions_Returnstatements_If_else.ipynb\" target=\"_parent\"><img src=\"https://colab.research.google.com/assets/colab-badge.svg\" alt=\"Open In Colab\"/></a>"
      ]
    },
    {
      "cell_type": "markdown",
      "source": [
        "**TUPLES** = Simmilar to lists but the coordinates inside tupules cannot be changed like lists. One you set the tuples its fixed. So practically, people use tuples to store data which never gonna change.\n",
        "\n",
        "*   In lists [] used for store the data like \"age = [28, 30, 32, 34, 36, 38, 40, 42]\n",
        "*   In tuples () used for store the data like \"size = (28, 30, 32, 34, 36, 38, 40, 42)\n",
        "\n",
        "But if you have some tuples and you make a list of them then you can use the functions of lists to play with the elements of lists but in that case a whole tuple acts as an individual element.\n"
      ],
      "metadata": {
        "id": "-ZVVSrNBRUJg"
      }
    },
    {
      "cell_type": "code",
      "source": [
        "size = (28, 30, 32, 34, 36, 38, 40, 42)\n",
        "print(size)\n",
        "print(size[3])\n",
        "print(size[6])\n",
        "print(size[2])\n",
        "print(size[4])"
      ],
      "metadata": {
        "colab": {
          "base_uri": "https://localhost:8080/"
        },
        "id": "1MhlLpmERaNK",
        "outputId": "da6054bc-b7fd-45b3-dd01-a93f65b115bd"
      },
      "execution_count": null,
      "outputs": [
        {
          "output_type": "stream",
          "name": "stdout",
          "text": [
            "(28, 30, 32, 34, 36, 38, 40, 42)\n",
            "34\n",
            "40\n",
            "32\n",
            "36\n"
          ]
        }
      ]
    },
    {
      "cell_type": "code",
      "source": [
        "couples = [(\"robi, bunu\"), (\"mithun, smruthi\"), (\"ovi, shorna\") ]\n",
        "print(couples)\n",
        "couples.append(\"morad, dot\")\n",
        "print(couples)\n",
        "couples.insert(2, \"rakib, sahana\")\n",
        "print(couples)\n",
        "couples.pop()\n",
        "print(couples)\n",
        "couples.remove(\"mithun, smruthi\")\n",
        "print(couples)\n",
        "print(couples.index(\"robi, bunu\"))\n",
        "print(couples.count(\"robi, bunu\"))\n",
        "couples.clear()\n",
        "print(couples)"
      ],
      "metadata": {
        "colab": {
          "base_uri": "https://localhost:8080/"
        },
        "id": "1-WZ4N8tWLTx",
        "outputId": "56336f7d-e196-4971-9ee9-9cf38ba0cb57"
      },
      "execution_count": null,
      "outputs": [
        {
          "output_type": "stream",
          "name": "stdout",
          "text": [
            "['robi, bunu', 'mithun, smruthi', 'ovi, shorna']\n",
            "['robi, bunu', 'mithun, smruthi', 'ovi, shorna', 'morad, dot']\n",
            "['robi, bunu', 'mithun, smruthi', 'rakib, sahana', 'ovi, shorna', 'morad, dot']\n",
            "['robi, bunu', 'mithun, smruthi', 'rakib, sahana', 'ovi, shorna']\n",
            "['robi, bunu', 'rakib, sahana', 'ovi, shorna']\n",
            "0\n",
            "1\n",
            "[]\n"
          ]
        }
      ]
    },
    {
      "cell_type": "markdown",
      "source": [
        "**FUNCTIONS** = function is basically a group of codes which are u=sed for performing a specific task."
      ],
      "metadata": {
        "id": "EebFKjgnb3Ge"
      }
    },
    {
      "cell_type": "code",
      "source": [
        "def days():\n",
        "  print(\"365 days\")\n",
        "  print(\"sometimes it is 366 days\")\n",
        "  print(\"when its leap year\")\n",
        "print(\"Year\")\n",
        "days()\n",
        "print(\"Leap year is also a year\")"
      ],
      "metadata": {
        "colab": {
          "base_uri": "https://localhost:8080/"
        },
        "id": "927DlF9Pb8mB",
        "outputId": "e79b675a-03ad-4a74-e033-db453bb79d57"
      },
      "execution_count": null,
      "outputs": [
        {
          "output_type": "stream",
          "name": "stdout",
          "text": [
            "Year\n",
            "365 days\n",
            "sometimes it is 366 days\n",
            "when its leap year\n",
            "Leap year is also a year\n"
          ]
        }
      ]
    },
    {
      "cell_type": "markdown",
      "source": [
        "Parameters inside the functions"
      ],
      "metadata": {
        "id": "Gz6kT_SdeuBy"
      }
    },
    {
      "cell_type": "code",
      "source": [
        "def study(name):\n",
        "  print(name + \" is hard to study\")\n",
        "  print(\"my mark is really low in \" + name)\n",
        "\n",
        "study(\"Breeding\")\n",
        "\n",
        "def study(name, lenght, slides,):\n",
        "  print(name + \" is hard.\", name + \" included a lots of \" + lenght + \".\" , \"one \" + lenght + \" consists of \" + slides + \" slides.\")\n",
        "\n",
        "study(\"Breding\", \"lectures\", \"45\")\n",
        "def study(name, lenght, slides,):\n",
        "  print(name + \" is hard.\", name + \" included a lots of \" + lenght + \".\" , \"one \" + lenght + \" consists of \" + str(slides) + \" slides.\")\n",
        "\n",
        "study(\"Breding\", \"lectures\", 45)"
      ],
      "metadata": {
        "colab": {
          "base_uri": "https://localhost:8080/"
        },
        "id": "4eVEnSNAeRaK",
        "outputId": "e6bf64e3-303e-42f7-8ec4-ba71a77aa7f2"
      },
      "execution_count": null,
      "outputs": [
        {
          "output_type": "stream",
          "name": "stdout",
          "text": [
            "Breeding is hard to study\n",
            "my mark is really low in Breeding\n",
            "Breding is hard. Breding included a lots of lectures. one lectures consists of 45 slides.\n",
            "Breding is hard. Breding included a lots of lectures. one lectures consists of 45 slides.\n"
          ]
        }
      ]
    },
    {
      "cell_type": "markdown",
      "source": [
        "**\"RETURN\" STATEMENT** of function = to get information back from a function"
      ],
      "metadata": {
        "id": "2rNaiVM8iH8N"
      }
    },
    {
      "cell_type": "code",
      "source": [
        "def cube(num):\n",
        "  num*num*num\n",
        "\n",
        "cube(3)\n",
        "def cube(num):\n",
        "  num*num*num\n",
        "\n",
        "print(cube(3))\n",
        "def cube(num):\n",
        "  print(num*num*num)\n",
        "\n",
        "cube(3)\n",
        "def cube(num):\n",
        "  return num*num*num\n",
        "\n",
        "cube(3)\n"
      ],
      "metadata": {
        "colab": {
          "base_uri": "https://localhost:8080/"
        },
        "id": "DCo9RbJMh218",
        "outputId": "34b8ce2e-156b-49a5-e5d4-05ffff52816f"
      },
      "execution_count": null,
      "outputs": [
        {
          "output_type": "stream",
          "name": "stdout",
          "text": [
            "None\n",
            "27\n"
          ]
        },
        {
          "output_type": "execute_result",
          "data": {
            "text/plain": [
              "27"
            ]
          },
          "metadata": {},
          "execution_count": 41
        }
      ]
    },
    {
      "cell_type": "code",
      "source": [
        "def cube(num):\n",
        " return num*num*num\n",
        "\n",
        "result = cube(3)\n",
        "print(result)\n",
        "cube(3)\n",
        "\n"
      ],
      "metadata": {
        "colab": {
          "base_uri": "https://localhost:8080/"
        },
        "id": "2MKOArHsjLBS",
        "outputId": "7f6fe5dd-58d5-48bf-ba21-4d050de50cdd"
      },
      "execution_count": null,
      "outputs": [
        {
          "output_type": "stream",
          "name": "stdout",
          "text": [
            "27\n"
          ]
        },
        {
          "output_type": "execute_result",
          "data": {
            "text/plain": [
              "27"
            ]
          },
          "metadata": {},
          "execution_count": 44
        }
      ]
    },
    {
      "cell_type": "code",
      "source": [
        "def cube(num):\n",
        " return num*num*num\n",
        "\n",
        "result = cube(3)\n",
        "cube(3)\n",
        "print(result)\n"
      ],
      "metadata": {
        "colab": {
          "base_uri": "https://localhost:8080/"
        },
        "id": "2PAe4ZPCnbCn",
        "outputId": "164f572d-9155-4212-b6b3-d0978fc2a585"
      },
      "execution_count": null,
      "outputs": [
        {
          "output_type": "stream",
          "name": "stdout",
          "text": [
            "27\n"
          ]
        }
      ]
    },
    {
      "cell_type": "code",
      "source": [
        "def cube(num):\n",
        " return num*num*num\n",
        " print(\"number\")\n",
        " \n",
        "result = cube(3)\n",
        "cube(3)\n",
        "print(result)"
      ],
      "metadata": {
        "colab": {
          "base_uri": "https://localhost:8080/"
        },
        "id": "hNR89Zvhnubv",
        "outputId": "8c8d7459-0b09-4dc3-acf2-4596702295df"
      },
      "execution_count": null,
      "outputs": [
        {
          "output_type": "stream",
          "name": "stdout",
          "text": [
            "27\n"
          ]
        }
      ]
    },
    {
      "cell_type": "code",
      "source": [
        "def cube(num):\n",
        " return num*num*num\n",
        " print(\"number\")\n",
        "\n",
        "result = cube(3)\n",
        "print(result)\n",
        "cube(3)\n",
        "\n"
      ],
      "metadata": {
        "colab": {
          "base_uri": "https://localhost:8080/"
        },
        "outputId": "c32bc5f8-3350-4294-d2ed-1f7f2e1da096",
        "id": "B-NZwEQQoQDo"
      },
      "execution_count": null,
      "outputs": [
        {
          "output_type": "stream",
          "name": "stdout",
          "text": [
            "27\n"
          ]
        },
        {
          "output_type": "execute_result",
          "data": {
            "text/plain": [
              "27"
            ]
          },
          "metadata": {},
          "execution_count": 48
        }
      ]
    },
    {
      "cell_type": "markdown",
      "source": [
        "**IF/ELSE STATEMENT**"
      ],
      "metadata": {
        "id": "VgZhQRcvpkJr"
      }
    },
    {
      "cell_type": "code",
      "source": [
        "student = True\n",
        "teacher = True\n",
        "\n",
        "if student:\n",
        "  print(\"I am a student\")\n",
        "else:\n",
        "  print(\"I am a teacher\")"
      ],
      "metadata": {
        "colab": {
          "base_uri": "https://localhost:8080/"
        },
        "id": "Tv2qQycNtMhn",
        "outputId": "03e49c53-752c-4658-b82c-b6d0b67983d3"
      },
      "execution_count": null,
      "outputs": [
        {
          "output_type": "stream",
          "name": "stdout",
          "text": [
            "I am a student\n"
          ]
        }
      ]
    },
    {
      "cell_type": "markdown",
      "source": [
        "If/else statement with or "
      ],
      "metadata": {
        "id": "pg87KouBvYTN"
      }
    },
    {
      "cell_type": "code",
      "source": [
        "student = True\n",
        "teacher = True\n",
        "\n",
        "if student or teacher:\n",
        "  print(\"I am a student and a teacher\")\n",
        "else:\n",
        "  print(\"I am neither student or teacher\")"
      ],
      "metadata": {
        "colab": {
          "base_uri": "https://localhost:8080/"
        },
        "outputId": "878640f1-f39b-445d-a508-7780bb5cfd8e",
        "id": "NBgj6S36uRZp"
      },
      "execution_count": null,
      "outputs": [
        {
          "output_type": "stream",
          "name": "stdout",
          "text": [
            "I am a student and a teacher\n"
          ]
        }
      ]
    },
    {
      "cell_type": "code",
      "source": [
        "student = True\n",
        "teacher = False\n",
        "\n",
        "if student or teacher:\n",
        "  print(\"I am a student and a teacher\")\n",
        "else:\n",
        "  print(\"I am neither student or teacher\")"
      ],
      "metadata": {
        "colab": {
          "base_uri": "https://localhost:8080/"
        },
        "outputId": "0b8dee7a-e816-49f8-9fe7-e866b4abbd65",
        "id": "a9jra2pLuoLQ"
      },
      "execution_count": null,
      "outputs": [
        {
          "output_type": "stream",
          "name": "stdout",
          "text": [
            "I am a student and a teacher\n"
          ]
        }
      ]
    },
    {
      "cell_type": "code",
      "source": [
        "student = False\n",
        "teacher = False\n",
        "\n",
        "if student or teacher:\n",
        "  print(\"I am a student and a teacher\")\n",
        "else:\n",
        "  print(\"I am neither student or teacher\")"
      ],
      "metadata": {
        "colab": {
          "base_uri": "https://localhost:8080/"
        },
        "outputId": "15e1a661-3f99-46e6-fb6e-716576efd8a5",
        "id": "74KnhFwCuryZ"
      },
      "execution_count": null,
      "outputs": [
        {
          "output_type": "stream",
          "name": "stdout",
          "text": [
            "I am neither student or teacher\n"
          ]
        }
      ]
    },
    {
      "cell_type": "markdown",
      "source": [
        "If/else statement with and "
      ],
      "metadata": {
        "id": "GEkRZjCIvNRb"
      }
    },
    {
      "cell_type": "code",
      "source": [
        "student = True\n",
        "teacher = True\n",
        "\n",
        "if student and teacher:\n",
        "  print(\"I am a student and a teacher\")\n",
        "else:\n",
        "  print(\"I am neither student or teacher\")"
      ],
      "metadata": {
        "colab": {
          "base_uri": "https://localhost:8080/"
        },
        "outputId": "8fe3a149-305d-4f4d-9763-5993ee13cecd",
        "id": "Ncs8Yxzku1Gc"
      },
      "execution_count": null,
      "outputs": [
        {
          "output_type": "stream",
          "name": "stdout",
          "text": [
            "I am a student and a teacher\n"
          ]
        }
      ]
    },
    {
      "cell_type": "code",
      "source": [
        "student = False\n",
        "teacher = True\n",
        "\n",
        "if student and teacher:\n",
        "  print(\"I am a student and a teacher\")\n",
        "else:\n",
        "  print(\"I am neither student or teacher\")"
      ],
      "metadata": {
        "colab": {
          "base_uri": "https://localhost:8080/"
        },
        "outputId": "6a0e76d6-a20e-445d-8caf-1823bb5ed150",
        "id": "1aaKARVBu71o"
      },
      "execution_count": null,
      "outputs": [
        {
          "output_type": "stream",
          "name": "stdout",
          "text": [
            "I am neither student or teacher\n"
          ]
        }
      ]
    },
    {
      "cell_type": "code",
      "source": [
        "student = False\n",
        "teacher = False\n",
        "\n",
        "if student and teacher:\n",
        "  print(\"I am a student and a teacher\")\n",
        "else:\n",
        "  print(\"I am neither student or teacher\")"
      ],
      "metadata": {
        "colab": {
          "base_uri": "https://localhost:8080/"
        },
        "outputId": "6e8fbffe-ffaf-44bf-f556-4d63fc0b313a",
        "id": "TVCFjkJPvFjN"
      },
      "execution_count": 3,
      "outputs": [
        {
          "output_type": "stream",
          "name": "stdout",
          "text": [
            "I am neither student or teacher\n"
          ]
        }
      ]
    },
    {
      "cell_type": "markdown",
      "source": [
        "If/else statement with **elif **or elseif "
      ],
      "metadata": {
        "id": "qDdcovLmukDX"
      }
    },
    {
      "cell_type": "code",
      "source": [
        "student = True\n",
        "teacher = True\n",
        "\n",
        "if student and teacher:\n",
        "  print(\"you are a student and teacher\")\n",
        "\n",
        "elif student and not(teacher):\n",
        "  print(\"you are a student\")\n",
        "elif not(student) and teacher:\n",
        "  print(\"You are  a teacher\")\n",
        "\n",
        "else: \n",
        "  print(\"you are neither a teacher or  a studnet\")\n"
      ],
      "metadata": {
        "colab": {
          "base_uri": "https://localhost:8080/"
        },
        "id": "tpHPGGN8uri6",
        "outputId": "e231f3ca-aaa0-4c1b-899b-b8e3de550f17"
      },
      "execution_count": 10,
      "outputs": [
        {
          "output_type": "stream",
          "name": "stdout",
          "text": [
            "you are a student and teacher\n"
          ]
        }
      ]
    },
    {
      "cell_type": "code",
      "source": [
        "student = True\n",
        "teacher = False\n",
        "\n",
        "if student and teacher:\n",
        "  print(\"you are a student and teacher\")\n",
        "\n",
        "elif student and not(teacher):\n",
        "  print(\"you are a student\")\n",
        "elif not(student) and teacher:\n",
        "  print(\"You are  a teacher\")\n",
        "\n",
        "else: \n",
        "  print(\"you are neither a teacher or  a studnet\")\n"
      ],
      "metadata": {
        "colab": {
          "base_uri": "https://localhost:8080/"
        },
        "outputId": "9fc68978-da16-4e0d-d5f7-39024b09ac38",
        "id": "yCiSPAURy5FR"
      },
      "execution_count": 11,
      "outputs": [
        {
          "output_type": "stream",
          "name": "stdout",
          "text": [
            "you are a student\n"
          ]
        }
      ]
    },
    {
      "cell_type": "code",
      "source": [
        "student = False\n",
        "teacher = False\n",
        "\n",
        "if student and teacher:\n",
        "  print(\"you are a student and teacher\")\n",
        "\n",
        "elif student and not(teacher):\n",
        "  print(\"you are a student\")\n",
        "elif not(student) and teacher:\n",
        "  print(\"You are  a teacher\")\n",
        "\n",
        "else: \n",
        "  print(\"you are neither a teacher or  a studnet\")\n"
      ],
      "metadata": {
        "colab": {
          "base_uri": "https://localhost:8080/"
        },
        "outputId": "cec7eb48-6d1c-4f0b-e273-68adf27e0bda",
        "id": "T6Z75gFey-f9"
      },
      "execution_count": 12,
      "outputs": [
        {
          "output_type": "stream",
          "name": "stdout",
          "text": [
            "you are neither a teacher or  a studnet\n"
          ]
        }
      ]
    },
    {
      "cell_type": "code",
      "source": [
        "student = False\n",
        "teacher = True\n",
        "\n",
        "if student and teacher:\n",
        "  print(\"you are a student and teacher\")\n",
        "\n",
        "elif student and not(teacher):\n",
        "  print(\"you are a student\")\n",
        "elif not(student) and teacher:\n",
        "  print(\"You are  a teacher\")\n",
        "\n",
        "else: \n",
        "  print(\"you are neither a teacher or  a studnet\")\n"
      ],
      "metadata": {
        "colab": {
          "base_uri": "https://localhost:8080/"
        },
        "outputId": "14b08dcf-a623-4fbd-f45e-cd0978b3c3ab",
        "id": "M-zzIXXszCSd"
      },
      "execution_count": 13,
      "outputs": [
        {
          "output_type": "stream",
          "name": "stdout",
          "text": [
            "You are  a teacher\n"
          ]
        }
      ]
    },
    {
      "cell_type": "markdown",
      "source": [
        "**IF/else STATEMENT & COMPARISONS**\n",
        "\n",
        "* In this case \" >=, <= \" are Comparison operator\n",
        "*  some comparison operators are \" <, >, == means equal to, != means not equal to  \n",
        "\n"
      ],
      "metadata": {
        "id": "6jV7-WrEzOXs"
      }
    },
    {
      "cell_type": "code",
      "source": [
        "def max_value(n1, n2, n3, n4, n5):\n",
        "  if n1 >= n2 and n1 >= n3 and n1 >= n4 and n1 >= n5:\n",
        "    return n1\n",
        "  elif n2 >= n1 and n2 >= n3 and n2 >= n4 and n2 >= n5:\n",
        "    return n2 \n",
        "  elif n3 >= n1 and n3 >= n2 and n3 >= n4 and n3 >= n5:\n",
        "    return n3\n",
        "  elif n4 >= n1 and n4 >= n2 and n4 >= n3 and n4 >= n5:\n",
        "    return n4\n",
        "  else:\n",
        "    return n5\n",
        "\n",
        "print(max_value(34, 36, 48, 21, 67))\n",
        "   "
      ],
      "metadata": {
        "colab": {
          "base_uri": "https://localhost:8080/"
        },
        "id": "IZRlk8OLzWGK",
        "outputId": "581bb53e-ab8f-4764-8412-6b8d189f7310"
      },
      "execution_count": 14,
      "outputs": [
        {
          "output_type": "stream",
          "name": "stdout",
          "text": [
            "67\n"
          ]
        }
      ]
    },
    {
      "cell_type": "code",
      "source": [
        "def min_value(n1, n2, n3, n4, n5):\n",
        "  if n1 <= n2 and n1 <= n3 and n1 <= n4 and n1 <= n5:\n",
        "    return n1\n",
        "  elif n2 <= n1 and n2 <= n3 and n2 <= n4 and n2 <= n5:\n",
        "    return n2 \n",
        "  elif n3 <= n1 and n3 <= n2 and n3 <= n4 and n3 <= n5:\n",
        "    return n3\n",
        "  elif n4 <= n1 and n4 <= n2 and n4 <= n3 and n4 <= n5:\n",
        "    return n4\n",
        "  else:\n",
        "    return n5\n",
        "\n",
        "print(min_value(34, 36, 48, 21, 67))"
      ],
      "metadata": {
        "colab": {
          "base_uri": "https://localhost:8080/"
        },
        "id": "mTTo-ePC276r",
        "outputId": "a3999e47-7ef5-4ac5-b439-87c457c7d69d"
      },
      "execution_count": 16,
      "outputs": [
        {
          "output_type": "stream",
          "name": "stdout",
          "text": [
            "21\n"
          ]
        }
      ]
    }
  ]
}