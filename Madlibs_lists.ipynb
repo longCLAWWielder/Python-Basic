{
  "nbformat": 4,
  "nbformat_minor": 0,
  "metadata": {
    "colab": {
      "provenance": [],
      "authorship_tag": "ABX9TyNc28zD7PK4QRMgitqkDH8q",
      "include_colab_link": true
    },
    "kernelspec": {
      "name": "python3",
      "display_name": "Python 3"
    },
    "language_info": {
      "name": "python"
    }
  },
  "cells": [
    {
      "cell_type": "markdown",
      "metadata": {
        "id": "view-in-github",
        "colab_type": "text"
      },
      "source": [
        "<a href=\"https://colab.research.google.com/github/longCLAWWielder/Python-Basic/blob/main/Madlibs_lists.ipynb\" target=\"_parent\"><img src=\"https://colab.research.google.com/assets/colab-badge.svg\" alt=\"Open In Colab\"/></a>"
      ]
    },
    {
      "cell_type": "markdown",
      "source": [
        "**MAD LIBS**"
      ],
      "metadata": {
        "id": "LNcUXCv-wto3"
      }
    },
    {
      "cell_type": "code",
      "source": [
        "print(\"I am Morad\")\n",
        "print(\"I am gonna talk about my friends today\")\n",
        "print(\"I have three sets of friends\")\n",
        "print(\"one set are from school. Another two sets are after school buddies\")\n",
        "print(\"there are also catagories.\")\n",
        "print(\"some people are from chittagong, some are from other part of the world\")\n",
        "print(\"some of them are girls, most of them are boys\")\n",
        "print(\"some are fair, some are balck\")\n",
        "print(\"some are fat, some are slim\")\n",
        "print(\"some of them are couple but some of them are single\")\n",
        "print(\"some people are judgemental, some are easy\")\n",
        "print(\"I have two nice black looking friends\")\n",
        "print(\"their names are fayyaz and rakib\")"
      ],
      "metadata": {
        "colab": {
          "base_uri": "https://localhost:8080/"
        },
        "id": "aO4EySB5wxXN",
        "outputId": "1ea241e8-60fe-4364-d29b-060d9b07ebb6"
      },
      "execution_count": null,
      "outputs": [
        {
          "output_type": "stream",
          "name": "stdout",
          "text": [
            "I am Morad\n",
            "I am gonna talk about my friends today\n",
            "I have three sets of friends\n",
            "one set are from school. Another two sets are after school buddies\n",
            "there are also catagories.\n",
            "some people are from chittagong, some are from other part of the world\n",
            "some of them are girls, most of them are boys\n",
            "some are fair, some are balck\n",
            "some are fat, some are slim\n",
            "some of them are couple but some of them are single\n",
            "some people are judgemental, some are easy\n",
            "I have two nice black looking friends\n",
            "their names are fayyaz and rakib\n"
          ]
        }
      ]
    },
    {
      "cell_type": "code",
      "source": [
        "Nam = input(\"Name: \")\n",
        "top = input(\"Talking about: \")\n",
        "sets = input(\"How many sets: \")\n",
        "sch = input(\"Where you meet them: \")\n",
        "Cat = input(\"caragories: \")\n",
        "ctg = input(\"Where they are from: \")\n",
        "Gen = input(\"What are their gender: \")\n",
        "Col = input(\"color: \")\n",
        "Bsp = input(\"Bodyshape: \")\n",
        "soc = input(\"single or couple: \")\n",
        "Jud = input(\"behaviour: \")\n",
        "lks = input(\"specailly looking friend: \")\n",
        "nam = input(\"who are they: \")\n",
        "print(\"I am \" + Nam)\n",
        "print(\"I am gonna talk about \" + top + \" today\")\n",
        "print(\"I have \" + sets +  \" of friends\")\n",
        "print(\"one set are from \" + sch + \". Another two sets are after \" + sch + \" buddies\")\n",
        "print(\"there are \" + Cat + \" catagories.\")\n",
        "print(\"some people are from \" + ctg + \". some are from other part of the world\")\n",
        "print(\"some of them are \" + Gen + \", most of them are boys.\")\n",
        "print(\"some are \" + Col + \", some are fair.\")\n",
        "print(\"some are \" + Bsp + \", some are slim.\")\n",
        "print(\"some of them are \" + soc + \" but some of them are couple.\")\n",
        "print(\"some people are \" + Jud + \", some are easy.\")\n",
        "print(\"I have two nice \" + lks + \" looking friends.\")\n",
        "print(\"their names are \" + nam + \" and rakib.\")"
      ],
      "metadata": {
        "colab": {
          "base_uri": "https://localhost:8080/"
        },
        "id": "lM4SdiBY3owL",
        "outputId": "de96bc73-30cb-4963-c1a7-9a12c89abcc4"
      },
      "execution_count": null,
      "outputs": [
        {
          "output_type": "stream",
          "name": "stdout",
          "text": [
            "Name: Morad\n",
            "Talking about: Friends\n",
            "How many sets: 3 sets\n",
            "Where you meet them: school\n",
            "caragories: lots of \n",
            "Where they are from: chittagong\n",
            "What are their gender: girls\n",
            "color: black\n",
            "Bodyshape: fat\n",
            "single or couple: single\n",
            "behaviour: tough\n",
            "specailly looking friend: black\n",
            "who are they: fayyaz\n",
            "I am Morad\n",
            "I am gonna talk about Friends today\n",
            "I have 3 sets of friends\n",
            "one set are from school. Another two sets are after school buddies\n",
            "there are lots of  catagories.\n",
            "some people are from chittagong. some are from other part of the world\n",
            "some of them are girls, most of them are boys.\n",
            "some are black, some are fair.\n",
            "some are fat, some are slim.\n",
            "some of them are single but some of them are couple.\n",
            "some people are tough, some are easy.\n",
            "I have two nice black looking friends.\n",
            "their names are fayyaz and rakib.\n"
          ]
        }
      ]
    },
    {
      "cell_type": "markdown",
      "source": [
        "**LISTS**"
      ],
      "metadata": {
        "id": "U1CVcJn_8voh"
      }
    },
    {
      "cell_type": "code",
      "source": [
        "cousins = [\"babu\", \"shojib\", \"Keya\", \"shourob\", \"fahim\", \"rifat\", \"nisa\", \"nitu\", \"nishat\", \"nihat\", \"jasif\", \"irfan\", \"rohan\", \"adila\", \"anila\", \"ayat\", \"nabila\", \"sayeed\", \"yumna\", \"sara\", \"nura\", \"mohammad\", \"maryam\", \"godfather\", \"shaun\", \"sayem\",\"tamanna\"]\n",
        "print(cousins)\n",
        "print(cousins[20])\n",
        "print(cousins[26])\n",
        "cousins[3] = \"lali\"\n",
        "print(cousins[3])\n",
        "print(cousins)\n",
        "cousins[2] = \"lali\"\n",
        "cousins[3] = \"Tiger\"\n",
        "cousins[4] = \"halaiye\"\n",
        "cousins[6] = \"agent\"\n"
      ],
      "metadata": {
        "colab": {
          "base_uri": "https://localhost:8080/"
        },
        "id": "rzmSjo7Q81ND",
        "outputId": "2e423195-41f5-49ed-e555-51b44caf8dab"
      },
      "execution_count": null,
      "outputs": [
        {
          "output_type": "stream",
          "name": "stdout",
          "text": [
            "['babu', 'shojib', 'Keya', 'shourob', 'fahim', 'rifat', 'nisa', 'nitu', 'nishat', 'nihat', 'jasif', 'irfan', 'rohan', 'adila', 'anila', 'ayat', 'nabila', 'sayeed', 'yumna', 'sara', 'nura', 'mohammad', 'maryam', 'godfather', 'shaun', 'sayem', 'tamanna']\n",
            "nura\n",
            "tamanna\n",
            "lali\n",
            "['babu', 'shojib', 'Keya', 'lali', 'fahim', 'rifat', 'nisa', 'nitu', 'nishat', 'nihat', 'jasif', 'irfan', 'rohan', 'adila', 'anila', 'ayat', 'nabila', 'sayeed', 'yumna', 'sara', 'nura', 'mohammad', 'maryam', 'godfather', 'shaun', 'sayem', 'tamanna']\n"
          ]
        }
      ]
    },
    {
      "cell_type": "code",
      "source": [
        "cousins = [\"babu\", \"shojib\", \"Keya\", \"shourob\", \"fahim\", \"rifat\", \"nisa\", \"nitu\", \"nishat\", \"nihat\", \"jasif\", \"irfan\", \"rohan\", \"adila\", \"anila\", \"ayat\", \"nabila\", \"sayeed\", \"yumna\", \"sara\", \"nura\", \"mohammad\", \"maryam\", \"godfather\", \"shaun\", \"sayem\",\"tamanna\"]\n",
        "print(cousins)\n",
        "print(cousins[20])\n",
        "print(cousins[26])\n",
        "cousins[3] = \"lali\"\n",
        "print(cousins[3])\n",
        "print(cousins)\n",
        "cousins[2] = \"lali\"\n",
        "cousins[3] = \"Tiger\"\n",
        "cousins[4] = \"halaiye\"\n",
        "cousins[6] = \"agent\"\n",
        "cousins[8] = \"ai addan no hai\"\n",
        "cousins[9] = \"amae best friend der moddhe ekjon\"\n",
        "print(cousins)\n",
        "print(cousins[0:4])\n",
        "\n"
      ],
      "metadata": {
        "colab": {
          "base_uri": "https://localhost:8080/"
        },
        "outputId": "ecd2fa53-8e70-45ff-e74d-37d8ebff4c2c",
        "id": "bi_m7J0lC6N7"
      },
      "execution_count": null,
      "outputs": [
        {
          "output_type": "stream",
          "name": "stdout",
          "text": [
            "['babu', 'shojib', 'Keya', 'shourob', 'fahim', 'rifat', 'nisa', 'nitu', 'nishat', 'nihat', 'jasif', 'irfan', 'rohan', 'adila', 'anila', 'ayat', 'nabila', 'sayeed', 'yumna', 'sara', 'nura', 'mohammad', 'maryam', 'godfather', 'shaun', 'sayem', 'tamanna']\n",
            "nura\n",
            "tamanna\n",
            "lali\n",
            "['babu', 'shojib', 'Keya', 'lali', 'fahim', 'rifat', 'nisa', 'nitu', 'nishat', 'nihat', 'jasif', 'irfan', 'rohan', 'adila', 'anila', 'ayat', 'nabila', 'sayeed', 'yumna', 'sara', 'nura', 'mohammad', 'maryam', 'godfather', 'shaun', 'sayem', 'tamanna']\n",
            "['babu', 'shojib', 'lali', 'Tiger', 'halaiye', 'rifat', 'agent', 'nitu', 'ai addan no hai', 'amae best friend der moddhe ekjon', 'jasif', 'irfan', 'rohan', 'adila', 'anila', 'ayat', 'nabila', 'sayeed', 'yumna', 'sara', 'nura', 'mohammad', 'maryam', 'godfather', 'shaun', 'sayem', 'tamanna']\n",
            "['babu', 'shojib', 'lali', 'Tiger']\n"
          ]
        }
      ]
    },
    {
      "cell_type": "code",
      "source": [
        "cousins = [\"babu\", \"shojib\", \"Keya\", \"shourob\", \"fahim\", \"rifat\", \"nisa\", \"nitu\", \"nishat\", \"nihat\", \"jasif\", \"irfan\", \"rohan\", \"adila\", \"anila\", \"ayat\", \"nabila\", \"sayeed\", \"yumna\", \"sara\", \"nura\", \"mohammad\", \"maryam\", \"godfather\", \"shaun\", \"sayem\",\"tamanna\"]\n",
        "print(cousins)\n",
        "print(cousins[20])\n",
        "print(cousins[26])\n",
        "cousins[3] = \"lali\"\n",
        "print(cousins[3])\n",
        "print(cousins)\n",
        "cousins[2] = \"lali\"\n",
        "cousins[3] = \"Tiger\"\n",
        "cousins[4] = \"halaiye\"\n",
        "cousins[6] = \"agent\"\n",
        "cousins[8] = \"ai addan no hai\"\n",
        "cousins[9] = \"amae best friend der moddhe ekjon\"\n",
        "print(cousins)\n",
        "print(cousins[0:4])\n",
        "print(cousins[4:7])\n",
        "print(cousins[7:11])\n",
        "print(cousins[11:13])\n",
        "print(cousins[13:17])\n",
        "print(cousins[17:23])\n",
        "print(cousins[26])"
      ],
      "metadata": {
        "colab": {
          "base_uri": "https://localhost:8080/"
        },
        "outputId": "90d52c44-78ad-46e6-d53a-51913361155e",
        "id": "1rmTMTKRFV0q"
      },
      "execution_count": null,
      "outputs": [
        {
          "output_type": "stream",
          "name": "stdout",
          "text": [
            "['babu', 'shojib', 'Keya', 'shourob', 'fahim', 'rifat', 'nisa', 'nitu', 'nishat', 'nihat', 'jasif', 'irfan', 'rohan', 'adila', 'anila', 'ayat', 'nabila', 'sayeed', 'yumna', 'sara', 'nura', 'mohammad', 'maryam', 'godfather', 'shaun', 'sayem', 'tamanna']\n",
            "nura\n",
            "tamanna\n",
            "lali\n",
            "['babu', 'shojib', 'Keya', 'lali', 'fahim', 'rifat', 'nisa', 'nitu', 'nishat', 'nihat', 'jasif', 'irfan', 'rohan', 'adila', 'anila', 'ayat', 'nabila', 'sayeed', 'yumna', 'sara', 'nura', 'mohammad', 'maryam', 'godfather', 'shaun', 'sayem', 'tamanna']\n",
            "['babu', 'shojib', 'lali', 'Tiger', 'halaiye', 'rifat', 'agent', 'nitu', 'ai addan no hai', 'amae best friend der moddhe ekjon', 'jasif', 'irfan', 'rohan', 'adila', 'anila', 'ayat', 'nabila', 'sayeed', 'yumna', 'sara', 'nura', 'mohammad', 'maryam', 'godfather', 'shaun', 'sayem', 'tamanna']\n",
            "['babu', 'shojib', 'lali', 'Tiger']\n",
            "['halaiye', 'rifat', 'agent']\n",
            "['nitu', 'ai addan no hai', 'amae best friend der moddhe ekjon', 'jasif']\n",
            "['irfan', 'rohan']\n",
            "['adila', 'anila', 'ayat', 'nabila']\n",
            "['sayeed', 'yumna', 'sara', 'nura', 'mohammad', 'maryam']\n",
            "tamanna\n"
          ]
        }
      ]
    },
    {
      "cell_type": "markdown",
      "source": [
        "**LIST FUNCTIONS**"
      ],
      "metadata": {
        "id": "1DPA6gds_qVT"
      }
    },
    {
      "cell_type": "markdown",
      "source": [
        "extend = to add something in the list, append = add\n",
        "**individual** element at the end , insert = add **individual** element anywhere in the middle , remove = remove the individual element you want to remove , clear = clear the whole list, pop = remove the last elemnt from the list.-----------------------\n",
        "Index = location of the individual element in the list , count = How many times an element in the list, sort = to make ascending order of the number or organize the words alphabatically, reverse = to organize the words/numbers reversely. Copy = copy the list."
      ],
      "metadata": {
        "id": "BIWNjO4lD5PT"
      }
    },
    {
      "cell_type": "code",
      "source": [
        "cousins = [\"fahim\", \"jasif\", \"nitu\", \"rifat\", \"nishat\", \"nisa\", \"nihat\"]\n",
        "print(cousins)\n",
        "age = [27, 22, 22, 20, 20, 17, 15]\n",
        "cousins.extend(age)\n",
        "print(cousins)\n",
        "cousins.append(\"irfan\")\n",
        "print(cousins)\n",
        "cousins.append(23)\n",
        "print(cousins)\n",
        "cousins.insert(3,\"tamanna\")\n",
        "print(cousins)\n",
        "cousins.insert(7, \"rohan\")\n",
        "print(cousins)\n",
        "cousins.remove(\"irfan\")\n",
        "print(cousins)\n",
        "cousins.remove(23)\n",
        "print(cousins)\n",
        "cousins.pop()\n",
        "print(cousins)\n",
        "cousins.pop()\n",
        "print(cousins)\n",
        "print(cousins.index(\"tamanna\"))\n",
        "print(cousins.index(22))\n",
        "print(cousins.index(20))\n",
        "print(cousins.count(\"rifat\"))\n",
        "print(cousins.count(22))\n",
        "print(cousins.count(20))\n",
        "print(cousins)\n",
        "cousins.remove(27)\n",
        "cousins.remove(20)\n",
        "cousins.remove(22)\n",
        "print(cousins)\n",
        "cousins.remove(22)\n",
        "cousins.remove(20)\n",
        "print(cousins)\n",
        "cousins.sort()\n",
        "print(cousins)\n",
        "age.sort()\n",
        "print(age)\n",
        "age.reverse()\n",
        "print(age)\n",
        "cousins.reverse()\n",
        "print(cousins)\n",
        "ending = cousins.copy()\n",
        "print(ending)\n",
        "ending = age.copy()\n",
        "print(ending)"
      ],
      "metadata": {
        "id": "rJohtKA6_wXv",
        "colab": {
          "base_uri": "https://localhost:8080/"
        },
        "outputId": "3ad2239c-8228-4412-a4f2-f6b22b9c7562"
      },
      "execution_count": null,
      "outputs": [
        {
          "output_type": "stream",
          "name": "stdout",
          "text": [
            "['fahim', 'jasif', 'nitu', 'rifat', 'nishat', 'nisa', 'nihat']\n",
            "['fahim', 'jasif', 'nitu', 'rifat', 'nishat', 'nisa', 'nihat', 27, 22, 22, 20, 20, 17, 15]\n",
            "['fahim', 'jasif', 'nitu', 'rifat', 'nishat', 'nisa', 'nihat', 27, 22, 22, 20, 20, 17, 15, 'irfan']\n",
            "['fahim', 'jasif', 'nitu', 'rifat', 'nishat', 'nisa', 'nihat', 27, 22, 22, 20, 20, 17, 15, 'irfan', 23]\n",
            "['fahim', 'jasif', 'nitu', 'tamanna', 'rifat', 'nishat', 'nisa', 'nihat', 27, 22, 22, 20, 20, 17, 15, 'irfan', 23]\n",
            "['fahim', 'jasif', 'nitu', 'tamanna', 'rifat', 'nishat', 'nisa', 'rohan', 'nihat', 27, 22, 22, 20, 20, 17, 15, 'irfan', 23]\n",
            "['fahim', 'jasif', 'nitu', 'tamanna', 'rifat', 'nishat', 'nisa', 'rohan', 'nihat', 27, 22, 22, 20, 20, 17, 15, 23]\n",
            "['fahim', 'jasif', 'nitu', 'tamanna', 'rifat', 'nishat', 'nisa', 'rohan', 'nihat', 27, 22, 22, 20, 20, 17, 15]\n",
            "['fahim', 'jasif', 'nitu', 'tamanna', 'rifat', 'nishat', 'nisa', 'rohan', 'nihat', 27, 22, 22, 20, 20, 17]\n",
            "['fahim', 'jasif', 'nitu', 'tamanna', 'rifat', 'nishat', 'nisa', 'rohan', 'nihat', 27, 22, 22, 20, 20]\n",
            "3\n",
            "10\n",
            "12\n",
            "1\n",
            "2\n",
            "2\n",
            "['fahim', 'jasif', 'nitu', 'tamanna', 'rifat', 'nishat', 'nisa', 'rohan', 'nihat', 27, 22, 22, 20, 20]\n",
            "['fahim', 'jasif', 'nitu', 'tamanna', 'rifat', 'nishat', 'nisa', 'rohan', 'nihat', 22, 20]\n",
            "['fahim', 'jasif', 'nitu', 'tamanna', 'rifat', 'nishat', 'nisa', 'rohan', 'nihat']\n",
            "['fahim', 'jasif', 'nihat', 'nisa', 'nishat', 'nitu', 'rifat', 'rohan', 'tamanna']\n",
            "[15, 17, 20, 20, 22, 22, 27]\n",
            "[27, 22, 22, 20, 20, 17, 15]\n",
            "['tamanna', 'rohan', 'rifat', 'nitu', 'nishat', 'nisa', 'nihat', 'jasif', 'fahim']\n",
            "['tamanna', 'rohan', 'rifat', 'nitu', 'nishat', 'nisa', 'nihat', 'jasif', 'fahim']\n",
            "[27, 22, 22, 20, 20, 17, 15]\n"
          ]
        }
      ]
    },
    {
      "cell_type": "markdown",
      "source": [],
      "metadata": {
        "id": "k-4HSKbAQ0XW"
      }
    },
    {
      "cell_type": "code",
      "source": [],
      "metadata": {
        "id": "3BIzBUwqHSTx"
      },
      "execution_count": null,
      "outputs": []
    }
  ]
}