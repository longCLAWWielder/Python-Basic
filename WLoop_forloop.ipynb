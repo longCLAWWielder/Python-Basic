{
  "nbformat": 4,
  "nbformat_minor": 0,
  "metadata": {
    "colab": {
      "provenance": [],
      "authorship_tag": "ABX9TyM4MTfXdsuFhruleEKiTg44",
      "include_colab_link": true
    },
    "kernelspec": {
      "name": "python3",
      "display_name": "Python 3"
    },
    "language_info": {
      "name": "python"
    }
  },
  "cells": [
    {
      "cell_type": "markdown",
      "metadata": {
        "id": "view-in-github",
        "colab_type": "text"
      },
      "source": [
        "<a href=\"https://colab.research.google.com/github/longCLAWWielder/Python-Basic/blob/main/WLoop_forloop.ipynb\" target=\"_parent\"><img src=\"https://colab.research.google.com/assets/colab-badge.svg\" alt=\"Open In Colab\"/></a>"
      ]
    },
    {
      "cell_type": "markdown",
      "source": [
        "**WHILE LOOPS**\n",
        "\n",
        "*   Execute a structured code for multiple times \n",
        "*   List item\n",
        "\n"
      ],
      "metadata": {
        "id": "g3aesUg2Uedv"
      }
    },
    {
      "cell_type": "code",
      "execution_count": 8,
      "metadata": {
        "colab": {
          "base_uri": "https://localhost:8080/"
        },
        "id": "EhDfosfvUb2R",
        "outputId": "c95b7ac8-60fd-4d78-80a5-226b4f9b16d6"
      },
      "outputs": [
        {
          "output_type": "stream",
          "name": "stdout",
          "text": [
            "34\n",
            "53\n",
            "72\n",
            "91\n",
            "110\n",
            "129\n",
            "148\n",
            "167\n",
            "186\n",
            "205\n",
            "224\n",
            "243\n",
            "262\n",
            "281\n",
            "300\n",
            "319\n",
            "338\n",
            "357\n",
            "not posible to get more result because conditions do not support the loop\n"
          ]
        }
      ],
      "source": [
        "a = 15\n",
        "b = 19\n",
        "while a <= 340:\n",
        "  print(a + b)\n",
        "  a = a + b \n",
        "\n",
        "print(\"not posible to get more result because conditions do not support the loop\")"
      ]
    },
    {
      "cell_type": "code",
      "source": [
        "a = 15\n",
        "b = 19\n",
        "while (a + b) <= 340:\n",
        "  print(a + b)\n",
        "  (a + b) = (a + b)\n",
        "\n",
        "print(\"not posible to get more result because conditions do not support the loop\")"
      ],
      "metadata": {
        "colab": {
          "base_uri": "https://localhost:8080/",
          "height": 135
        },
        "id": "GxSF7mP6berC",
        "outputId": "312e1887-5dd0-45e3-d13a-07cb3abbf1f6"
      },
      "execution_count": 9,
      "outputs": [
        {
          "output_type": "error",
          "ename": "SyntaxError",
          "evalue": "ignored",
          "traceback": [
            "\u001b[0;36m  File \u001b[0;32m\"<ipython-input-9-cac94f8c27c2>\"\u001b[0;36m, line \u001b[0;32m5\u001b[0m\n\u001b[0;31m    (a + b) = (a + b)\u001b[0m\n\u001b[0m    ^\u001b[0m\n\u001b[0;31mSyntaxError\u001b[0m\u001b[0;31m:\u001b[0m cannot assign to operator\n"
          ]
        }
      ]
    },
    {
      "cell_type": "markdown",
      "source": [
        "**BUILDING A GUESSING GAME** "
      ],
      "metadata": {
        "id": "ih6HfyIqbU4d"
      }
    },
    {
      "cell_type": "code",
      "source": [
        "secret_girl = \"TJ\"\n",
        "guess = \"\"\n",
        "print(input(\"try a name: \"))\n",
        "while guess != secret_girl:\n",
        "  guess = input(\"A ha, try again:\")\n",
        "print(\"you should say yes\")\n"
      ],
      "metadata": {
        "colab": {
          "base_uri": "https://localhost:8080/"
        },
        "id": "pYlkCh47bY5n",
        "outputId": "2d9e076c-4edf-4d6a-9b3a-a80b693c672c"
      },
      "execution_count": 12,
      "outputs": [
        {
          "output_type": "stream",
          "name": "stdout",
          "text": [
            "try a name: koli\n",
            "koli\n",
            "A ha, try again:fjffg\n",
            "A ha, try again:gbgbf\n",
            "A ha, try again:bfjgbf\n",
            "A ha, try again:hbfdhj\n",
            "A ha, try again:fbdhj\n",
            "A ha, try again:TJ\n",
            "you should say yes\n"
          ]
        }
      ]
    },
    {
      "cell_type": "code",
      "source": [
        "secret_girl = \"tjs\"\n",
        "guess = \"\"\n",
        "attempt_count = 0\n",
        "attempt_limit = 5\n",
        "out_of_attempt = False\n",
        "\n",
        "while guess != secret_girl and not(out_of_attempt):\n",
        "  if attempt_count < attempt_limit:\n",
        "    guess = input(\"Try a name: \")\n",
        "    attempt_count = attempt_count + 1\n",
        "  else:\n",
        "    out_of_attempt = True\n",
        "if out_of_attempt:\n",
        "  print(\"Honourable fucker, you lose!, go fuck yourself\")\n",
        "else:\n",
        "  print(\"you win, you are my friend\")\n"
      ],
      "metadata": {
        "colab": {
          "base_uri": "https://localhost:8080/"
        },
        "outputId": "59c53767-a5fa-46d7-e841-f46442f60697",
        "id": "pRtdruQek5Jl"
      },
      "execution_count": null,
      "outputs": [
        {
          "output_type": "stream",
          "name": "stdout",
          "text": [
            "Try a name: jh\n",
            "Try a name: jk\n",
            "Try a name: juk\n",
            "Try a name: jhhwew\n",
            "Try a name: dbfdjhgfdu\n",
            "Honourable fucker, you lose!, go fuck yourself\n"
          ]
        }
      ]
    },
    {
      "cell_type": "markdown",
      "source": [
        "A combination of variables, if/else statements and while loop with boolian value"
      ],
      "metadata": {
        "id": "T8MhS291hUFa"
      }
    },
    {
      "cell_type": "code",
      "source": [
        "secret_girl = \"tjs\"\n",
        "guess = \"\"\n",
        "attempt_count = 0\n",
        "attempt_limit = 5\n",
        "out_of_attempt = False\n",
        "\n",
        "while guess != secret_girl and not(out_of_attempt):\n",
        "  if attempt_count < attempt_limit:\n",
        "    guess = input(\"Try a name: \")\n",
        "    attempt_count = attempt_count + 1\n",
        "  else:\n",
        "    out_of_attempt = True\n",
        "if out_of_attempt:\n",
        "  print(\"Honourable fucker, you lose!, go fuck yourself\")\n",
        "else:\n",
        "  print(\"you win, you are my friend\")"
      ],
      "metadata": {
        "colab": {
          "base_uri": "https://localhost:8080/"
        },
        "id": "wKCxg3B3hRqa",
        "outputId": "04410b70-ae98-4b88-8513-aa3f8f75d692"
      },
      "execution_count": 17,
      "outputs": [
        {
          "output_type": "stream",
          "name": "stdout",
          "text": [
            "Try a name: bfjk\n",
            "Try a name: djhvbvd\n",
            "Try a name: jnvdkjn\n",
            "Try a name: tjs\n",
            "you win, you are my friend\n"
          ]
        }
      ]
    },
    {
      "cell_type": "markdown",
      "source": [
        "**FOR LOOP**"
      ],
      "metadata": {
        "id": "qq8vpflGlqHm"
      }
    },
    {
      "cell_type": "code",
      "source": [
        "for friends in \"a piece of cake\":\n",
        "  print(friends)"
      ],
      "metadata": {
        "colab": {
          "base_uri": "https://localhost:8080/"
        },
        "id": "2grCO0XjltnU",
        "outputId": "4f34066f-0c91-4e8a-971b-910c55473480"
      },
      "execution_count": 18,
      "outputs": [
        {
          "output_type": "stream",
          "name": "stdout",
          "text": [
            "a\n",
            " \n",
            "p\n",
            "i\n",
            "e\n",
            "c\n",
            "e\n",
            " \n",
            "o\n",
            "f\n",
            " \n",
            "c\n",
            "a\n",
            "k\n",
            "e\n"
          ]
        }
      ]
    },
    {
      "cell_type": "code",
      "source": [
        "for numbers in \"57.87\":\n",
        "  print(numbers)"
      ],
      "metadata": {
        "colab": {
          "base_uri": "https://localhost:8080/"
        },
        "id": "93M2nEdZs5B5",
        "outputId": "6cc436a5-19e7-43e1-9b26-3fd84a7062d1"
      },
      "execution_count": 33,
      "outputs": [
        {
          "output_type": "stream",
          "name": "stdout",
          "text": [
            "5\n",
            "7\n",
            ".\n",
            "8\n",
            "7\n"
          ]
        }
      ]
    },
    {
      "cell_type": "code",
      "source": [
        "Animals = [\"dog\", \"cat\", \"tiger\", 10, 12, 15]\n",
        "for animal in Animals:\n",
        "  print(animal)\n"
      ],
      "metadata": {
        "colab": {
          "base_uri": "https://localhost:8080/"
        },
        "id": "lEBLG6kHuSI3",
        "outputId": "7e433bf8-47a0-464a-db8e-68dd6b28c8c7"
      },
      "execution_count": 34,
      "outputs": [
        {
          "output_type": "stream",
          "name": "stdout",
          "text": [
            "dog\n",
            "cat\n",
            "tiger\n",
            "10\n",
            "12\n",
            "15\n"
          ]
        }
      ]
    },
    {
      "cell_type": "code",
      "source": [
        "for numbers in range(5):\n",
        "  print(numbers)"
      ],
      "metadata": {
        "colab": {
          "base_uri": "https://localhost:8080/"
        },
        "id": "E5-_ROG4vJPt",
        "outputId": "1e008f2c-29e3-4bff-e31b-0bf55fc473e7"
      },
      "execution_count": 35,
      "outputs": [
        {
          "output_type": "stream",
          "name": "stdout",
          "text": [
            "0\n",
            "1\n",
            "2\n",
            "3\n",
            "4\n"
          ]
        }
      ]
    },
    {
      "cell_type": "code",
      "source": [
        "for numbers in range(3, 6):\n",
        "  print(numbers)"
      ],
      "metadata": {
        "colab": {
          "base_uri": "https://localhost:8080/"
        },
        "id": "UHOuLxLYvYql",
        "outputId": "c3a98bfa-fad9-491f-c10c-273fcc7b2f63"
      },
      "execution_count": 39,
      "outputs": [
        {
          "output_type": "stream",
          "name": "stdout",
          "text": [
            "3\n",
            "4\n",
            "5\n"
          ]
        }
      ]
    },
    {
      "cell_type": "code",
      "source": [
        "animals = [\"dog\", \"cat\", \"tiger\", 10, 12, 15]\n",
        "for animal in range(len(animals)):\n",
        "  print(animals[animal])"
      ],
      "metadata": {
        "colab": {
          "base_uri": "https://localhost:8080/"
        },
        "id": "qmZRX7BGwJAX",
        "outputId": "9af9f644-e860-4fbb-ca70-03ca54b1b9a7"
      },
      "execution_count": 41,
      "outputs": [
        {
          "output_type": "stream",
          "name": "stdout",
          "text": [
            "dog\n",
            "cat\n",
            "tiger\n",
            "10\n",
            "12\n",
            "15\n"
          ]
        }
      ]
    },
    {
      "cell_type": "code",
      "source": [
        "animals = [\"dog\", \"cat\", \"tiger\", 10, 12, 15]\n",
        "for animal in range(len(animals)):\n",
        "  if animal == \"dog\":\n",
        "    print(\"Nice pet\")\n",
        "  elif animal == \"cat\":\n",
        "    print(\"Moody pet\")\n",
        "  elif animal != 16:\n",
        "    print(\"no,its not\")\n",
        "  else:\n",
        "    print(\"there is no animal alive\")"
      ],
      "metadata": {
        "colab": {
          "base_uri": "https://localhost:8080/"
        },
        "id": "LpAISueSxMoq",
        "outputId": "77599651-733e-43d3-a7d3-82b4c9893175"
      },
      "execution_count": 42,
      "outputs": [
        {
          "output_type": "stream",
          "name": "stdout",
          "text": [
            "no,its not\n",
            "no,its not\n",
            "no,its not\n",
            "no,its not\n",
            "no,its not\n",
            "no,its not\n"
          ]
        }
      ]
    },
    {
      "cell_type": "code",
      "source": [
        "animals = [\"dog\", \"cat\", \"tiger\", 10, 12, 15]\n",
        "for animal in range(len(animals)):\n",
        "  if animal == 0:\n",
        "    print(\"Nice pet\")\n",
        "  elif animal == 1:\n",
        "    print(\"Moody pet\")\n",
        "  elif animal != 16:\n",
        "    print(\"no,its not\")\n",
        "  else:\n",
        "    print(\"there is no animal alive\")"
      ],
      "metadata": {
        "colab": {
          "base_uri": "https://localhost:8080/"
        },
        "outputId": "8fdb3099-57bc-4233-f64b-af7b7c31b538",
        "id": "gRL5kCcRyiWZ"
      },
      "execution_count": 44,
      "outputs": [
        {
          "output_type": "stream",
          "name": "stdout",
          "text": [
            "Nice pet\n",
            "Moody pet\n",
            "no,its not\n",
            "no,its not\n",
            "no,its not\n",
            "no,its not\n"
          ]
        }
      ]
    }
  ]
}