{
  "nbformat": 4,
  "nbformat_minor": 0,
  "metadata": {
    "colab": {
      "provenance": [],
      "authorship_tag": "ABX9TyOp3g8OelJKuI1wia2CRtog",
      "include_colab_link": true
    },
    "kernelspec": {
      "name": "python3",
      "display_name": "Python 3"
    },
    "language_info": {
      "name": "python"
    }
  },
  "cells": [
    {
      "cell_type": "markdown",
      "metadata": {
        "id": "view-in-github",
        "colab_type": "text"
      },
      "source": [
        "<a href=\"https://colab.research.google.com/github/longCLAWWielder/Python-Basic/blob/main/Advanced_calculator_and_Dictionaries.ipynb\" target=\"_parent\"><img src=\"https://colab.research.google.com/assets/colab-badge.svg\" alt=\"Open In Colab\"/></a>"
      ]
    },
    {
      "cell_type": "markdown",
      "source": [
        "**BUILDING AN ADVANCED CALCULATOR**"
      ],
      "metadata": {
        "id": "q-M9a1kL5Ola"
      }
    },
    {
      "cell_type": "code",
      "execution_count": 4,
      "metadata": {
        "colab": {
          "base_uri": "https://localhost:8080/"
        },
        "id": "sQlGb3MC45ud",
        "outputId": "0661fc2a-96a3-4cfe-e31c-d0e3025e1405"
      },
      "outputs": [
        {
          "output_type": "stream",
          "name": "stdout",
          "text": [
            "First person: 45\n",
            "Enter operator: +\n",
            "second person: 56\n",
            "Enter operator: -\n",
            "Third person: 100\n",
            "Enter operator: *\n",
            "Fourth person: 9\n",
            "Enter operator: /\n",
            "Fifth peoson: 3\n",
            "25.2\n"
          ]
        }
      ],
      "source": [
        "age1 = float(input(\"First person: \"))\n",
        "op1 = input(\"Enter operator: \")\n",
        "age2 = float(input(\"second person: \"))\n",
        "op2 = input(\"Enter operator: \")\n",
        "age3 = float(input(\"Third person: \"))\n",
        "op3 = input(\"Enter operator: \")\n",
        "age4 = float(input(\"Fourth person: \"))\n",
        "op4 = input(\"Enter operator: \")\n",
        "age5 = float(input(\"Fifth peoson: \"))\n",
        "\n",
        "if op1 == \"-\" and op2 == \"+\" and op3 == \"/\" and op4 == \"*\":\n",
        "  print(age1 - age2 + age3 / age4 * age5)\n",
        "elif op1 == \"+\" and op2 == \"-\" and op3 == \"*\" and op4 == \"/\": [this one entered]\n",
        "  print(age1 + age2 - age3 * age4 / age5)\n",
        "elif op1 == \"-\" and op2 == \"/\" and op3 == \"+\" and op4 == \"*\":\n",
        "  print(age1 - age2 / age3 + age4 * age5)\n",
        "elif op1 == \"*\" and op2 == \"%\" and op3 == \"/\" and op4 == \"+\":\n",
        "  print(age1 * age2 % age3 / age4 + age5)\n",
        "else:\n",
        "  print(age1 * age2 / age3 + age4 % age5)\n",
        "\n",
        "\n",
        "\n",
        "\n"
      ]
    },
    {
      "cell_type": "code",
      "execution_count": 5,
      "metadata": {
        "colab": {
          "base_uri": "https://localhost:8080/"
        },
        "outputId": "7bf2511e-0997-4432-a1df-c2bb8ee998be",
        "id": "fw9ndfc__ZlA"
      },
      "outputs": [
        {
          "output_type": "stream",
          "name": "stdout",
          "text": [
            "First person: 78\n",
            "Enter operator: *\n",
            "second person: 5\n",
            "Enter operator: /\n",
            "Third person: 78\n",
            "Enter operator: +\n",
            "Fourth person: 15\n",
            "Enter operator: %\n",
            "Fifth peoson: 100\n",
            "20.0\n"
          ]
        }
      ],
      "source": [
        "age1 = float(input(\"First person: \"))\n",
        "op1 = input(\"Enter operator: \")\n",
        "age2 = float(input(\"second person: \"))\n",
        "op2 = input(\"Enter operator: \")\n",
        "age3 = float(input(\"Third person: \"))\n",
        "op3 = input(\"Enter operator: \")\n",
        "age4 = float(input(\"Fourth person: \"))\n",
        "op4 = input(\"Enter operator: \")\n",
        "age5 = float(input(\"Fifth peoson: \"))\n",
        "\n",
        "if op1 == \"-\" and op2 == \"+\" and op3 == \"/\" and op4 == \"*\":\n",
        "  print(age1 - age2 + age3 / age4 * age5)\n",
        "elif op1 == \"+\" and op2 == \"-\" and op3 == \"*\" and op4 == \"/\":\n",
        "  print(age1 + age2 - age3 * age4 / age5)\n",
        "elif op1 == \"-\" and op2 == \"/\" and op3 == \"+\" and op4 == \"*\":\n",
        "  print(age1 - age2 / age3 + age4 * age5)\n",
        "elif op1 == \"*\" and op2 == \"%\" and op3 == \"/\" and op4 == \"+\":\n",
        "  print(age1 * age2 % age3 / age4 + age5)\n",
        "else:\n",
        "  print(age1 * age2 / age3 + age4 % age5) [this one entered]\n",
        "\n",
        "\n",
        "\n",
        "\n"
      ]
    },
    {
      "cell_type": "code",
      "execution_count": 6,
      "metadata": {
        "colab": {
          "base_uri": "https://localhost:8080/"
        },
        "outputId": "f626099f-e4d5-4162-fe77-7e9d7bdb6f46",
        "id": "RoC9CYGL_7Vr"
      },
      "outputs": [
        {
          "output_type": "stream",
          "name": "stdout",
          "text": [
            "First person: 56\n",
            "Enter operator: +\n",
            "second person: 67\n",
            "Enter operator: -\n",
            "Third person: 54\n",
            "Enter operator: %\n",
            "Fourth person: 76\n",
            "Enter operator: /\n",
            "Fifth peoson: 5\n",
            "invalid operator\n"
          ]
        }
      ],
      "source": [
        "age1 = float(input(\"First person: \"))\n",
        "op1 = input(\"Enter operator: \")\n",
        "age2 = float(input(\"second person: \"))\n",
        "op2 = input(\"Enter operator: \")\n",
        "age3 = float(input(\"Third person: \"))\n",
        "op3 = input(\"Enter operator: \")\n",
        "age4 = float(input(\"Fourth person: \"))\n",
        "op4 = input(\"Enter operator: \")\n",
        "age5 = float(input(\"Fifth peoson: \"))\n",
        "\n",
        "if op1 == \"-\" and op2 == \"+\" and op3 == \"/\" and op4 == \"*\":\n",
        "  print(age1 - age2 + age3 / age4 * age5)\n",
        "elif op1 == \"+\" and op2 == \"-\" and op3 == \"*\" and op4 == \"/\":\n",
        "  print(age1 + age2 - age3 * age4 / age5)\n",
        "elif op1 == \"-\" and op2 == \"/\" and op3 == \"+\" and op4 == \"*\":\n",
        "  print(age1 - age2 / age3 + age4 * age5)\n",
        "elif op1 == \"*\" and op2 == \"%\" and op3 == \"/\" and op4 == \"+\":\n",
        "  print(age1 * age2 % age3 / age4 + age5)\n",
        "else:\n",
        "  print(\"invalid operator\")\n",
        "\n",
        "\n",
        "\n",
        "\n"
      ]
    },
    {
      "cell_type": "markdown",
      "source": [
        "**DICTIONARIES**\n",
        "\n",
        "*   Here \"{}\" is used to creat a dictionary  \n",
        "*   List item\n",
        "\n"
      ],
      "metadata": {
        "id": "PVkp_KA2AfyJ"
      }
    },
    {
      "cell_type": "code",
      "source": [
        "friends_nicknames = {\n",
        "    \"sam\": \"smruthi\",\n",
        "    \"das\": \"mithun\",\n",
        "    \"crocks\": \"rakib\",\n",
        "    \"Murmur\": \"Morad\",\n",
        "    \"chotu\": \"sahana\",\n",
        "    \"bunu\": \"raihana\",\n",
        "}\n",
        "\n",
        "print(friends_nicknames[\"bunu\"])\n",
        "print(friends_nicknames[\"sam\"])\n",
        "\n",
        "print(friends_nicknames.get(\"das\"))\n",
        "print(friends_nicknames.get(\"samu\", \"a friend whose name is honey\"))\n",
        "print(friends_nicknames[\"samu\", \"a friend whose name is honey\"]) [this is not going to work without get function]"
      ],
      "metadata": {
        "colab": {
          "base_uri": "https://localhost:8080/",
          "height": 283
        },
        "id": "uDbU7tmx48hp",
        "outputId": "7591cb9e-8bbe-4bc2-881e-792ddecf2e93"
      },
      "execution_count": 21,
      "outputs": [
        {
          "output_type": "stream",
          "name": "stdout",
          "text": [
            "raihana\n",
            "smruthi\n",
            "mithun\n",
            "a friend whose name is honey\n"
          ]
        },
        {
          "output_type": "error",
          "ename": "KeyError",
          "evalue": "ignored",
          "traceback": [
            "\u001b[0;31m---------------------------------------------------------------------------\u001b[0m",
            "\u001b[0;31mKeyError\u001b[0m                                  Traceback (most recent call last)",
            "\u001b[0;32m<ipython-input-21-d41e651daf33>\u001b[0m in \u001b[0;36m<module>\u001b[0;34m\u001b[0m\n\u001b[1;32m     13\u001b[0m \u001b[0mprint\u001b[0m\u001b[0;34m(\u001b[0m\u001b[0mfriends_nicknames\u001b[0m\u001b[0;34m.\u001b[0m\u001b[0mget\u001b[0m\u001b[0;34m(\u001b[0m\u001b[0;34m\"das\"\u001b[0m\u001b[0;34m)\u001b[0m\u001b[0;34m)\u001b[0m\u001b[0;34m\u001b[0m\u001b[0;34m\u001b[0m\u001b[0m\n\u001b[1;32m     14\u001b[0m \u001b[0mprint\u001b[0m\u001b[0;34m(\u001b[0m\u001b[0mfriends_nicknames\u001b[0m\u001b[0;34m.\u001b[0m\u001b[0mget\u001b[0m\u001b[0;34m(\u001b[0m\u001b[0;34m\"samu\"\u001b[0m\u001b[0;34m,\u001b[0m \u001b[0;34m\"a friend whose name is honey\"\u001b[0m\u001b[0;34m)\u001b[0m\u001b[0;34m)\u001b[0m\u001b[0;34m\u001b[0m\u001b[0;34m\u001b[0m\u001b[0m\n\u001b[0;32m---> 15\u001b[0;31m \u001b[0mprint\u001b[0m\u001b[0;34m(\u001b[0m\u001b[0mfriends_nicknames\u001b[0m\u001b[0;34m[\u001b[0m\u001b[0;34m\"samu\"\u001b[0m\u001b[0;34m,\u001b[0m \u001b[0;34m\"a friend whose name is honey\"\u001b[0m\u001b[0;34m]\u001b[0m\u001b[0;34m)\u001b[0m\u001b[0;34m\u001b[0m\u001b[0;34m\u001b[0m\u001b[0m\n\u001b[0m",
            "\u001b[0;31mKeyError\u001b[0m: ('samu', 'a friend whose name is honey')"
          ]
        }
      ]
    },
    {
      "cell_type": "code",
      "source": [
        "prime_numbers = {\n",
        "    1: \"first prime number\",\n",
        "    2: \"second prime number\",\n",
        "    3: \"3rd prime number\",\n",
        "    5: \"4th prime number\",\n",
        "    7: \"5th prime number\",\n",
        "    9: \"last prime number\"\n",
        "}\n",
        "\n",
        "print(prime_numbers[1])\n",
        "print(prime_numbers.get(9))\n",
        "print(prime_numbers.get(11, \"another prime number\"))\n"
      ],
      "metadata": {
        "colab": {
          "base_uri": "https://localhost:8080/"
        },
        "id": "L7bGDp82Sb9o",
        "outputId": "389071ad-0f8b-4ec7-f93d-da841bfed302"
      },
      "execution_count": 24,
      "outputs": [
        {
          "output_type": "stream",
          "name": "stdout",
          "text": [
            "first prime number\n",
            "last prime number\n",
            "another prime number\n"
          ]
        }
      ]
    },
    {
      "cell_type": "code",
      "source": [],
      "metadata": {
        "id": "2w5kJUMXT5mi"
      },
      "execution_count": null,
      "outputs": []
    }
  ]
}