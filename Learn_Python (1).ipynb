{
  "nbformat": 4,
  "nbformat_minor": 0,
  "metadata": {
    "colab": {
      "private_outputs": true,
      "provenance": []
    },
    "kernelspec": {
      "name": "python3",
      "display_name": "Python 3"
    },
    "language_info": {
      "name": "python"
    },
    "accelerator": "GPU"
  },
  "cells": [
    {
      "cell_type": "markdown",
      "source": [
        " **First programming code**"
      ],
      "metadata": {
        "id": "EFdJhlXCOGJj"
      }
    },
    {
      "cell_type": "code",
      "execution_count": null,
      "metadata": {
        "id": "ELBmznhGNZXu"
      },
      "outputs": [],
      "source": [
        "print('hello Murad')"
      ]
    },
    {
      "cell_type": "markdown",
      "source": [
        "Sum programming\n"
      ],
      "metadata": {
        "id": "GMn2mGa6OjhS"
      }
    },
    {
      "cell_type": "code",
      "source": [
        "number_1 = 5 #variable name number 1 with a value of 5\n",
        "number_2 = 6 \n",
        "\n",
        "result = number_1 + number_2\n",
        "\n",
        "print(result)\n",
        "\n"
      ],
      "metadata": {
        "id": "DPO02Ms1OnBJ"
      },
      "execution_count": null,
      "outputs": []
    },
    {
      "cell_type": "markdown",
      "source": [
        "If else"
      ],
      "metadata": {
        "id": "ZXmBko-STF7f"
      }
    },
    {
      "cell_type": "code",
      "source": [
        "result = 11\n",
        "if result < 5:\n",
        "  print('hudai')\n",
        "else:\n",
        "  print(result)\n"
      ],
      "metadata": {
        "id": "kw9Hfg8NTHDU"
      },
      "execution_count": null,
      "outputs": []
    },
    {
      "cell_type": "markdown",
      "source": [
        "How the **PRINT** command work \n"
      ],
      "metadata": {
        "id": "_CzJUXtrmbxE"
      }
    },
    {
      "cell_type": "code",
      "source": [
        "print(\"Hello Murad\")"
      ],
      "metadata": {
        "id": "KLODJQeSRnXm"
      },
      "execution_count": null,
      "outputs": []
    },
    {
      "cell_type": "markdown",
      "source": [
        "Drawing a shape "
      ],
      "metadata": {
        "id": "t8uCfzy6nMTu"
      }
    },
    {
      "cell_type": "code",
      "source": [
        "print(\"   /I\")\n",
        "print(\"  / I\")\n",
        "print(\" /  I\")\n",
        "print(\"/___I\")"
      ],
      "metadata": {
        "id": "1hwsDkGYnUoU"
      },
      "execution_count": null,
      "outputs": []
    },
    {
      "cell_type": "code",
      "source": [
        "print(\"I I             I            I\")\n",
        "print(\"I I             I            I\")\n",
        "print(\"I I             I            I\")\n",
        "print(\"I I             I            I\")\n",
        "print(\"I I___________    __________\")"
      ],
      "metadata": {
        "id": "kIuCiXvppLyx"
      },
      "execution_count": null,
      "outputs": []
    },
    {
      "cell_type": "markdown",
      "source": [
        "Variables & Data types "
      ],
      "metadata": {
        "id": "aNvckShkreSe"
      }
    },
    {
      "cell_type": "markdown",
      "source": [],
      "metadata": {
        "id": "KizbYe73vICc"
      }
    },
    {
      "cell_type": "markdown",
      "source": [
        "In case of variables and data- we stored data in a form of plain text or numbers. so there are various types like. Basically 3 types [\n",
        "1.String- string is basically plain text and numbers \n",
        "2.Numbers- in case of numbers we can input just in python. we dont need quotation marks.]\n",
        "<<<<Example \n",
        "character_name = \"plain text or number\"--- called string\n",
        "character_number = number (without quotation mark)  "
      ],
      "metadata": {
        "id": "mDtarHYlow-k"
      }
    },
    {
      "cell_type": "code",
      "source": [
        "character_A = \"Mithun\"\n",
        "character_B = \"Rakib\"\n",
        "character_C = \"Smruthi\"\n",
        "character_D = \"sahana\"\n",
        "character_E = \"Morad\"\n",
        "print(character_A + \", \" + character_B + \", \" + character_C + \", \" + character_D + \" and \" + character_E +\" are in a group named House of the AVATAR\")\n",
        "print(character_B + \" asked for a movie night.\")\n",
        "print(\"He said, (you guys need some rest).\")\n",
        "print(character_A + \" said he is busy doing group study\")\n",
        "print(character_C + \",\" + character_D + \" does not reply\")\n",
        "print(character_E + \" asked in the group that is there any plant or not for tonight?\")\n",
        "print(character_B + \" replied with depression that nobody replied so no plan.\")\n",
        "print(character_E + \" Relied to \" + character_B + \" that he is okay with the decision and he is going to cook and eat.\")\n",
        "print(character_B + \" is so angry that he immidiately turn into crocodile and want to eat \" + character_A + \", \" + character_C + \", \" + character_D + \" but because of his broken leg \" + character_B + \" changed the plan\")\n",
        "print(\"so \" + character_A + \", \" + character_C + \", \" + character_D + \" are saved\")\n",
        "print(\"and \" + character_E + \" is eating paratha with alu baji alone and happily\")"
      ],
      "metadata": {
        "id": "KvOzPOW5rk0A"
      },
      "execution_count": null,
      "outputs": []
    },
    {
      "cell_type": "code",
      "source": [
        "character_A = \"Jui\"\n",
        "character_B = \"Fayyaz\"\n",
        "character_C = \"Dhara\"\n",
        "character_D = \"Noman\"\n",
        "character_E = \"Jaj\"\n",
        "print(character_A + \", \" + character_B + \", \" + character_C + \", \" + character_D + \" and \" + character_E +\" are in a group named Unplanned Mafia\")\n",
        "print(character_B + \" asked for a movie night.\")\n",
        "print(\"He said, (We will see Jism 4).\")\n",
        "print(character_A + \" said she is busy doing **B.job**\")\n",
        "print(character_C + \", \" + character_E + \" does not reply.\")\n",
        "print(character_D + \" asked in the group that is there any plan for tonight?\")\n",
        "print(character_B + \" replied with depression that nobody loves horny movie so no plan.\")\n",
        "print(character_E + \" replied to \" + character_B + \" that he is okay with the decision becuase he is studying hard for **BASHOR RAT**.\")\n",
        "print(character_B + \" is so angry that he immidiately turn into **BA BA BLACKSHIP** and wants to poke \" + character_E + \" but because of his broken 3rd leg \" + character_B + \" changed the plan.\")\n",
        "print(\"so \" + character_E + \" is saved.\")\n",
        "print(\"and \" + character_E + \" is studying **MODHUR MILON** alone and tensely.\")"
      ],
      "metadata": {
        "id": "Q2hPQVU93Gum"
      },
      "execution_count": null,
      "outputs": []
    },
    {
      "cell_type": "markdown",
      "source": [
        "3. True false value or Booleans value \n"
      ],
      "metadata": {
        "id": "6cT6ILRxvhd0"
      }
    },
    {
      "cell_type": "markdown",
      "source": [
        "**Working with Srings**"
      ],
      "metadata": {
        "id": "xTWZce8Bw0G3"
      }
    },
    {
      "cell_type": "markdown",
      "source": [
        "For different line = \\n ,\n",
        "For quotation mark = \\\" ,\n",
        "For upper case = .upper() , for lower case = .lower(),\n",
        "For checking the upper case or not = .isupper(),\n",
        "For checking the lower case or not = .islower(),\n",
        "For length function = len(string), it will tell how many characters in the string"
      ],
      "metadata": {
        "id": "QNXaiNs2yycF"
      }
    },
    {
      "cell_type": "code",
      "source": [
        "print(\"Hello, my name is Morad\")"
      ],
      "metadata": {
        "id": "3Kc0wJcrw66f"
      },
      "execution_count": null,
      "outputs": []
    },
    {
      "cell_type": "code",
      "source": [
        "print(\"Hello\\nmy name is morad\")"
      ],
      "metadata": {
        "id": "k0jUHbJcxnfD"
      },
      "execution_count": null,
      "outputs": []
    },
    {
      "cell_type": "code",
      "source": [
        "print(\"Hello my name is \\\"morad\\\"\")"
      ],
      "metadata": {
        "id": "Rp1OeKStyZhj"
      },
      "execution_count": null,
      "outputs": []
    },
    {
      "cell_type": "code",
      "source": [
        "string_A = \"Hello, my name is Morad\"\n",
        "print(string_A)\n",
        "print(string_A + \" He is a student of agriGenomics\")\n",
        "print(string_A.lower())\n",
        "print(string_A.upper())\n",
        "print(string_A.islower())\n",
        "print(string_A.lower().islower())\n",
        "print(string_A.isupper())\n",
        "print(string_A.upper().isupper())\n",
        "print(len(string_A))"
      ],
      "metadata": {
        "id": "PveMndmZzkK4"
      },
      "execution_count": null,
      "outputs": []
    },
    {
      "cell_type": "markdown",
      "source": [
        "To get a specific character in a string - 0 for 1st letter. and then 1,2,3 like this. so Here in string_A H is the 1st letter, code is = print(string_A[0]),,,,,,,,,,Index function ----- which tell us where the specific character located in a string. code is print(string_A.index()),,,,,,,,,,,,,,,,,,,,Replace function------- is to replace characters. code is print(string_A.replace(\"Morad\", \"Sayem\"))"
      ],
      "metadata": {
        "id": "T7ySZaLw4pvN"
      }
    },
    {
      "cell_type": "code",
      "source": [
        "string_A = \"Hello, my name is Morad\"\n",
        "print(string_A)\n",
        "print(string_A[0])\n",
        "print(string_A[22])\n",
        "print(len(string_A))\n",
        "print(string_A.index(\"a\"))\n",
        "print(string_A.index(\"ad\"))\n",
        "print(string_A.index(\"m\"))\n",
        "print(string_A.index(\"me\"))\n",
        "print(string_A.index(\"is\"))\n",
        "print(string_A.replace(\"Morad\", \"Sayem\"))\n",
        "print(string_A.replace(\"Morad\", \"Mohsin\"))\n",
        "string_B = print(string_A.replace(\"Morad\", \"Mohsin\"))\n",
        "string_c = print(string_A.replace(\"Morad\", \"Sayem\"))"
      ],
      "metadata": {
        "id": "lKEg8g494h6V"
      },
      "execution_count": null,
      "outputs": []
    },
    {
      "cell_type": "markdown",
      "source": [
        "**WORKING WITH NUMBERS**"
      ],
      "metadata": {
        "id": "pGaWgB_Zz_3i"
      }
    },
    {
      "cell_type": "markdown",
      "source": [
        "Normal operations of number like just print the number, addition, substraction, multiplication, division."
      ],
      "metadata": {
        "id": "t5ZzMDPn-0Ft"
      }
    },
    {
      "cell_type": "code",
      "source": [
        "print(2)\n",
        "print(2.05545)\n",
        "print(-345)\n",
        "print(0.2)\n",
        "print(5+3)\n",
        "print(3.876+51.5678889)\n",
        "print(6756578658-45784648575)\n",
        "print(475648756478/3764327647)\n",
        "print(47547547*7347848)"
      ],
      "metadata": {
        "id": "Vhk23cWZ-95n"
      },
      "execution_count": null,
      "outputs": []
    },
    {
      "cell_type": "code",
      "source": [
        "print(5*6+3-7/3)\n",
        "print((5*6)+3-(7/3))\n",
        "print(5*(6+3)-7/3)"
      ],
      "metadata": {
        "id": "6jFTCmgxAPJh"
      },
      "execution_count": null,
      "outputs": []
    },
    {
      "cell_type": "markdown",
      "source": [
        "Modulus operations"
      ],
      "metadata": {
        "id": "_xcvgjWKB85c"
      }
    },
    {
      "cell_type": "code",
      "source": [
        "print(23%7)\n",
        "print(345%5)\n",
        "print(678%7)\n",
        "print(9876.654%13.4)"
      ],
      "metadata": {
        "id": "70zmqZ2tCEVp"
      },
      "execution_count": null,
      "outputs": []
    },
    {
      "cell_type": "markdown",
      "source": [
        "Modulus operations with variable "
      ],
      "metadata": {
        "id": "z9ikL6N_DGjo"
      }
    },
    {
      "cell_type": "code",
      "source": [
        "num_1 = 45\n",
        "num_2 = 4.76\n",
        "num_3 = .098\n",
        "num_4 = 78.560\n",
        "num_5 = print(num_1%num_2)\n",
        "print((num_4 * num_2)-num_1+ (num_2%num_3))\n",
        "num_6 = print((num_4 * num_2)-num_1+ (num_2%num_3))\n",
        "print(num_5)\n",
        "print(num_4)\n",
        "print(num_6)"
      ],
      "metadata": {
        "id": "sWIiwuInDKMP"
      },
      "execution_count": null,
      "outputs": []
    },
    {
      "cell_type": "markdown",
      "source": [
        "Conversion of a number into a string "
      ],
      "metadata": {
        "id": "KhoVKJioNoY-"
      }
    },
    {
      "cell_type": "code",
      "source": [
        "num_7 = 1\n",
        "print(num_7)\n",
        "print(str(num_7) + \" is a prime number\")\n",
        "num_8 = 28\n",
        "print(str(num_8)+ \" is morad\\'s age\")"
      ],
      "metadata": {
        "id": "jLiTnuXyDQXp"
      },
      "execution_count": null,
      "outputs": []
    },
    {
      "cell_type": "markdown",
      "source": [
        "Math Functions "
      ],
      "metadata": {
        "id": "HFBgx_FAPIWk"
      }
    },
    {
      "cell_type": "markdown",
      "source": [
        "Absolute values of number, power values, maximum value, minimum value, rounding values "
      ],
      "metadata": {
        "id": "Ul-9C2qBPV3b"
      }
    },
    {
      "cell_type": "code",
      "source": [
        "num_9 = 4 \n",
        "num_10 = -8\n",
        "print(abs(num_9))\n",
        "print(abs(num_10))\n",
        "print(pow(2, 3))\n",
        "print(pow(num_9, 3))\n",
        "print(pow(num_10, 3))\n",
        "print(max(12,45,98,67,56,34,10))\n",
        "print(min(12,45,98,67,56,34,10))\n",
        "print(round(27.098))\n",
        "print(round(34.591))\n",
        "print(round(59.456))"
      ],
      "metadata": {
        "id": "hyXZiUJkPL1l"
      },
      "execution_count": null,
      "outputs": []
    },
    {
      "cell_type": "markdown",
      "source": [
        "Importing python math to access for complex math functions-----------Floor function (cut the portion after dot),,,,,,, ceil function (Round up the number no matter what),,,,,,,,,,,, sqare root function (square root of the number)"
      ],
      "metadata": {
        "id": "1YGNMOkfTAc1"
      }
    },
    {
      "cell_type": "code",
      "source": [
        "from math import *\n",
        "print(floor(5.3))\n",
        "print(floor(9.45))\n",
        "print(floor(17.51))\n",
        "print(ceil(5.3))\n",
        "print(ceil(9.45))\n",
        "print(ceil(17.51))\n",
        "print(sqrt(8))\n",
        "print(sqrt(945))\n",
        "print(sqrt(121))"
      ],
      "metadata": {
        "id": "6cgfmb9OTSwN"
      },
      "execution_count": null,
      "outputs": []
    },
    {
      "cell_type": "markdown",
      "source": [
        "**GETTING INPUT FROM USERS**"
      ],
      "metadata": {
        "id": "T0NZEMMCVc1G"
      }
    },
    {
      "cell_type": "code",
      "source": [
        "name = input(\"First name: \")\n",
        "print(\"Hello \" + name + \"!\")\n",
        "Name = input(\"last name: \")\n",
        "print(\"Nice name \" + Name)\n",
        "AGE = input(\"Real age: \")\n",
        "print(\"wow, is it \" + AGE + \"?\")\n",
        "age = input(\"Certificate age: \")\n",
        "print(\"A ha, \" + age + \" it makes sense.\")\n",
        "Gender = input(\"Gender: \")\n",
        "print(\"You looks like \" + Gender + \" ha ha ha!\")\n",
        "Address = input(\"Address: \")\n",
        "print(\"Okay! \" + Address + \"it is nearer than Steenbecker weg.\")"
      ],
      "metadata": {
        "id": "xJm817bAVpiy"
      },
      "execution_count": null,
      "outputs": []
    },
    {
      "cell_type": "code",
      "source": [
        "Family_member = input(\"Family Member: \")\n",
        "print(Family_member + \" is nice. who are they?\")\n",
        "Members = input(\"parents: \"), input(\"siblings: \")\n",
        "print(\"Wow, but only 4 they are. who are other 2?\")\n",
        "Others = input(\"others: \")\n",
        "print(\"okay, \" + Others + \"and?\")\n",
        "others = input(\"others: \")\n",
        "print(\"Nice, 2 parents, 2 siblings and\" + others + \"and\" + Others)"
      ],
      "metadata": {
        "id": "kQEGFDaFYQCm"
      },
      "execution_count": null,
      "outputs": []
    },
    {
      "cell_type": "markdown",
      "source": [
        "**BUILDING A BASIC CALCULATOR**"
      ],
      "metadata": {
        "id": "PW0xNnksH9uT"
      }
    },
    {
      "cell_type": "code",
      "source": [
        "num1 = input(\"First number: \")\n",
        "num2 = input(\"second number: \")\n",
        "num3 = input(\"third number: \")\n",
        "num4 = num1 + num2 + num3\n",
        "print(num4)\n",
        "print(\"the results should not be 129, why? - see the next code with int (integer number)  and float (decimal number)\")\n",
        "\n"
      ],
      "metadata": {
        "id": "HdcVbm0oH_8h"
      },
      "execution_count": null,
      "outputs": []
    },
    {
      "cell_type": "markdown",
      "source": [
        "Float(with decimal number) and int(with integer number)"
      ],
      "metadata": {
        "id": "fb-hAQ-hLGWE"
      }
    },
    {
      "cell_type": "code",
      "source": [
        "num1 = input(\"First number: \")\n",
        "num2 = input(\"second number: \")\n",
        "num3 = input(\"third number: \")\n",
        "num4 = float(num1) + float(num2) + float(num3)\n",
        "print(num4)\n",
        "num5 = input(\"5th number: \")\n",
        "num6 = input(\"6th number: \")\n",
        "num7 = input(\"7th number: \")\n",
        "num8 = int(num5) + int(num6) + int(num7)\n",
        "print(num8)"
      ],
      "metadata": {
        "id": "AluG9xd8LWzG"
      },
      "execution_count": null,
      "outputs": []
    }
  ]
}